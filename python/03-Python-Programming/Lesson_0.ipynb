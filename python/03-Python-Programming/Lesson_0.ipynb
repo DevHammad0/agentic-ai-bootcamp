{
 "cells": [
  {
   "cell_type": "markdown",
   "metadata": {},
   "source": [
    "This is a basic print statement that outputs \"Hello, World!\" to the console"
   ]
  },
  {
   "cell_type": "code",
   "execution_count": null,
   "metadata": {},
   "outputs": [],
   "source": [
    "\n",
    "print(\"Hello, World!\") "
   ]
  },
  {
   "cell_type": "markdown",
   "metadata": {},
   "source": [
    "Comments are used to explain the code and make it more readable. \n",
    "\n"
   ]
  },
  {
   "cell_type": "code",
   "execution_count": null,
   "metadata": {},
   "outputs": [],
   "source": [
    "# This is a single-line comment\n",
    "\n",
    "\"\"\"\n",
    "This is a multi-line comment\n",
    "It can span multiple lines\n",
    "\"\"\""
   ]
  },
  {
   "cell_type": "markdown",
   "metadata": {},
   "source": [
    "## Variables and Data Types\n",
    "\n",
    "Variables store values, and Python supports multiple data types such as integers, floats, strings, and booleans.\n",
    "\n",
    "```\n",
    "Variable naming rules:\n",
    "1. Can contain letters, numbers, underscores\n",
    "2. Must start with letter or underscore\n",
    "3. Case-sensitive\n",
    "4. Cannot use Python keywords\n",
    "```"
   ]
  },
  {
   "cell_type": "code",
   "execution_count": 2,
   "metadata": {},
   "outputs": [
    {
     "name": "stdout",
     "output_type": "stream",
     "text": [
      "10 <class 'int'>\n",
      "10.5 <class 'float'>\n",
      "Hello, LangGraph! <class 'str'>\n",
      "True <class 'bool'>\n"
     ]
    }
   ],
   "source": [
    "num = 10  # Integer\n",
    "decimal = 10.5  # Float\n",
    "text = \"Hello, LangGraph!\"  # String\n",
    "is_valid = True  # Boolean\n",
    "\n",
    "\n",
    "print(num)\n",
    "print(decimal)\n",
    "print(text)\n",
    "print(is_valid)"
   ]
  },
  {
   "cell_type": "markdown",
   "metadata": {},
   "source": [
    "### String Formatting\n",
    "\n",
    "Python offers several ways to format strings. The most modern and recommended approach is using f-strings (formatted string literals).\n",
    "\n",
    "F-strings allow you to embed expressions inside string literals, prefixed with 'f' or 'F'. They provide a concise and readable way to format strings.\n",
    "\n",
    "The syntax is: f\"some text {expression}\"\n",
    "\n",
    "It's more readable and efficient than older methods like concatenation (\"Hello \" + name)."
   ]
  },
  {
   "cell_type": "code",
   "execution_count": 5,
   "metadata": {},
   "outputs": [
    {
     "name": "stdout",
     "output_type": "stream",
     "text": [
      "I'm using Python version 3.12\n",
      "I'm using Python version 3.12\n"
     ]
    }
   ],
   "source": [
    "name = \"Python\"\n",
    "version = 3.12\n",
    "\n",
    "# String concatenation\n",
    "print(\"I'm using \" + name + \" version \" + str(version))\n",
    "\n",
    "# F-string (recommended)\n",
    "print(f\"I'm using {name} version {version}\")"
   ]
  },
  {
   "cell_type": "markdown",
   "metadata": {},
   "source": [
    "### Arithmetic Operators\n",
    " \n",
    "Python provides all standard arithmetic operators for mathematical calculations:\n",
    "\n",
    "- Addition (`+`): Adds two numbers\n",
    "- Subtraction (`-`): Subtracts second number from first\n",
    "- Multiplication (`*`): Multiplies two numbers\n",
    "- Division (`/`): Divides first number by second (returns float)\n",
    "- Integer Division (`//`): Divides and rounds down to nearest integer\n",
    "- Modulus (`%`): Returns remainder of division\n",
    "- Exponentiation (`**`): Raises first number to power of second\n",
    "\n",
    "The next cell demonstrates these operators in action.\n"
   ]
  },
  {
   "cell_type": "code",
   "execution_count": 6,
   "metadata": {},
   "outputs": [
    {
     "name": "stdout",
     "output_type": "stream",
     "text": [
      "Addition: 13\n",
      "Subtraction: 7\n",
      "Multiplication: 30\n",
      "Division: 3.3333333333333335\n",
      "Integer Division: 3\n",
      "Modulus: 1\n",
      "Exponentiation: 100\n"
     ]
    }
   ],
   "source": [
    "a = 10\n",
    "b = 3\n",
    "\n",
    "# Arithmetic operations\n",
    "print(f\"Addition: {a + b}\")         # 13\n",
    "print(f\"Subtraction: {a - b}\")      # 7\n",
    "print(f\"Multiplication: {a * b}\")   # 30\n",
    "print(f\"Division: {a / b}\")         # 3.333...\n",
    "print(f\"Integer Division: {a // b}\") # 3\n",
    "print(f\"Modulus: {a % b}\")          # 1\n",
    "print(f\"Exponentiation: {a ** 2}\")  # 100"
   ]
  },
  {
   "cell_type": "markdown",
   "metadata": {},
   "source": [
    "### Built-in Functions\n",
    " \n",
    "Python comes with many useful built-in functions that you can use without importing:\n",
    "\n",
    "- `len()`: Returns the length of a sequence (string, list, etc.)\n",
    "- `type()`: Returns the type of an object\n",
    "- `int()`: Converts a value to integer\n",
    "- `float()`: Converts a value to float \n",
    "- `str()`: Converts a value to string\n",
    "\n",
    "The next cell shows some common built-in functions in action.\n"
   ]
  },
  {
   "cell_type": "code",
   "execution_count": 7,
   "metadata": {},
   "outputs": [
    {
     "name": "stdout",
     "output_type": "stream",
     "text": [
      "Length of text: 6\n",
      "Type of text: <class 'str'>\n"
     ]
    }
   ],
   "source": [
    "# Built-in functions\n",
    "text = \"Python\"\n",
    "print(f\"Length of text: {len(text)}\")  # len() - Get length\n",
    "print(f\"Type of text: {type(text)}\")   # type() - Check data type\n",
    "\n",
    "\n",
    "# Type conversion\n",
    "number_str = \"123\" \n",
    "\n",
    "number_int = int(number_str)    # str to int\n",
    "number_float = float(\"3.14\")    # str to float\n",
    "text = str(42)                  # int to str   "
   ]
  },
  {
   "cell_type": "code",
   "execution_count": null,
   "metadata": {},
   "outputs": [],
   "source": []
  }
 ],
 "metadata": {
  "kernelspec": {
   "display_name": "aiclass",
   "language": "python",
   "name": "python3"
  },
  "language_info": {
   "codemirror_mode": {
    "name": "ipython",
    "version": 3
   },
   "file_extension": ".py",
   "mimetype": "text/x-python",
   "name": "python",
   "nbconvert_exporter": "python",
   "pygments_lexer": "ipython3",
   "version": "3.12.0"
  }
 },
 "nbformat": 4,
 "nbformat_minor": 2
}
