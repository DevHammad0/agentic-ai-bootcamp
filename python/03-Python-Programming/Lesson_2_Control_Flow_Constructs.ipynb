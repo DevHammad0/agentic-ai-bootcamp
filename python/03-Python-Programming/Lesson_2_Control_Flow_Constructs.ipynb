{
  "cells": [
    {
      "cell_type": "markdown",
      "metadata": {
        "id": "N7sKeEJONZ2j"
      },
      "source": [
        "# Control Flow Constructs"
      ]
    },
    {
      "cell_type": "markdown",
      "metadata": {
        "id": "gInjCixJM76c"
      },
      "source": [
        "### Problem:\n",
        "Without conditional statements, a program executes every statement sequentially, regardless of the context or situation. This results in inefficiency and an inability to make decisions dynamically based on specific conditions.\n",
        "\n",
        "### Solution by Conditional Statements:\n",
        "Conditional statements solve this problem by allowing the program to evaluate conditions and execute specific blocks of code only if the conditions are met. Using constructs like `if`, `elif`, and `else`, they enable dynamic decision-making, ensuring only relevant code runs based on the given scenario. This makes programs efficient, adaptable, and capable of handling multiple situations effectively."
      ]
    },
    {
      "cell_type": "markdown",
      "metadata": {
        "id": "F7ySXCUr45oQ"
      },
      "source": [
        "\n",
        "Control Flow Constructs are used to define Conditional Statements, Logical Operators, and Membership & Identity Operators in Python, enabling the control of program execution based on conditions, logical evaluations, and membership tests."
      ]
    },
    {
      "cell_type": "markdown",
      "metadata": {
        "id": "h6Nu_L6hmpiE"
      },
      "source": [
        "# Falsy values in Python\n",
        "\n",
        "These values are evaluated to 'false' that's why we call it `falsy` values.\n",
        "\n",
        "```python\n",
        "value_01 : None = None\n",
        "value_02 : int = 0\n",
        "value_03 : float = 0.0\n",
        "value_04 : str = \"\"\n",
        "Value_05 : bool = False\n",
        "value_06 : list[None] = []\n",
        "```\n",
        "And all other empty collections and sequences are also `falsy`."
      ]
    },
    {
      "cell_type": "markdown",
      "metadata": {
        "id": "DLkfOOfvisPo"
      },
      "source": [
        "# Conditional Statements in Python\n",
        "\n",
        "## Making Decisions in Code\n",
        "\n",
        "Imagine you’re creating an app that suggests activities based on the weather. If it’s sunny, it suggests a walk. If it’s rainy, it recommends reading a book indoors. But what about cloudy or snowy days? How can your app know what to do in each situation?\n",
        "\n",
        "This is where **conditional statements** come in—they help your code make decisions.\n",
        "\n",
        "## What Are Conditional Statements?\n",
        "\n",
        "Conditional statements in Python are like traffic signals for your code. They guide it to take the right path depending on the situation. Python uses three main tools for this:\n",
        "\n",
        "- **`if`**: Check if a condition is true.\n",
        "- **`elif`**: Check other conditions if the first isn’t true.\n",
        "- **`else`**: Provide a fallback if none of the conditions are true.\n",
        "\n",
        "By combining these, you can make your program smart enough to handle any situation!"
      ]
    },
    {
      "cell_type": "code",
      "execution_count": 10,
      "metadata": {
        "colab": {
          "base_uri": "https://localhost:8080/"
        },
        "id": "6bvHeTxMvHBh",
        "outputId": "cd905d64-a8f9-4614-d239-d025b584afda"
      },
      "outputs": [
        {
          "name": "stdout",
          "output_type": "stream",
          "text": [
            "could not decide\n"
          ]
        }
      ],
      "source": [
        "weather = \"\"\n",
        "if weather == \"cold\":\n",
        "  print(\"stay at home\")\n",
        "elif weather == \"sunny\":\n",
        "  print(\"Go for walk\")\n",
        "elif weather == \"rainy\":\n",
        "  print(\"Pick umrella and go for walk\")\n",
        "else:\n",
        "  print(\"could not decide\")"
      ]
    },
    {
      "cell_type": "markdown",
      "metadata": {
        "id": "VA-DX_sG5jA9"
      },
      "source": [
        "### **1. `if` Statement:**  \n"
      ]
    },
    {
      "cell_type": "code",
      "execution_count": 17,
      "metadata": {
        "id": "DhqUCYNo7Jfq"
      },
      "outputs": [],
      "source": [
        "weather = \"sunny\"\n",
        "\n",
        "if weather == \"Sunny\":\n",
        "    print(\"It's a beautiful day! Go for a walk.\")\n"
      ]
    },
    {
      "cell_type": "markdown",
      "metadata": {
        "id": "IbT3V92ci7Ln"
      },
      "source": [
        "### **2. Adding `else`:**  \n",
        "The `else` block provides a fallback if the `if` condition is `False`.\n"
      ]
    },
    {
      "cell_type": "code",
      "execution_count": 2,
      "metadata": {
        "colab": {
          "base_uri": "https://localhost:8080/"
        },
        "id": "Al9Lm4N2i9EE",
        "outputId": "ffff83bf-dd3a-4dd9-e4bf-15baaa95e677"
      },
      "outputs": [
        {
          "name": "stdout",
          "output_type": "stream",
          "text": [
            "It's a beautiful day! Go for a walk.\n"
          ]
        }
      ],
      "source": [
        "weather = \"sunny\"\n",
        "if 0:\n",
        "    print(\"It's a beautiful day! Go for a walk.\")\n",
        "else:\n",
        "    print(\"Stay indoors and read a book.\")\n"
      ]
    },
    {
      "cell_type": "code",
      "execution_count": 4,
      "metadata": {
        "colab": {
          "base_uri": "https://localhost:8080/"
        },
        "id": "1NPhFGfez0t1",
        "outputId": "c3a1ed0b-a84f-4f63-9513-b01ce74b9bc1"
      },
      "outputs": [
        {
          "name": "stdout",
          "output_type": "stream",
          "text": [
            "Go for walk\n"
          ]
        }
      ],
      "source": [
        "weather = input(\"What is the weather? sunny or cold?\")\n",
        "if weather == \"cold\":\n",
        "  print(\"stay at home\")\n",
        "elif weather == \"sunny\":\n",
        "  print(\"Go for walk\")"
      ]
    },
    {
      "cell_type": "markdown",
      "metadata": {
        "id": "YpHc1etxlcao"
      },
      "source": [
        "### **4. The `elif` Statement**:  \n",
        "Use `elif` for multiple conditions.\n"
      ]
    },
    {
      "cell_type": "code",
      "execution_count": 5,
      "metadata": {
        "colab": {
          "base_uri": "https://localhost:8080/"
        },
        "id": "Y7ntFTNnldko",
        "outputId": "d14ed22d-4706-4fef-b0cb-12ba85e3bb60"
      },
      "outputs": [
        {
          "name": "stdout",
          "output_type": "stream",
          "text": [
            "Take an umbrella.\n"
          ]
        }
      ],
      "source": [
        "weather = \"sunny\"\n",
        "weather = \"cloudy\"\n",
        "if weather == \"sunny\":\n",
        "    print(\"Go for a walk.\")\n",
        "    print(\"Enjoy the weather\")\n",
        "elif weather == \"cloudy\":\n",
        "    print(\"Take an umbrella.\")\n",
        "else:\n",
        "    print(\"Stay indoors.\")"
      ]
    },
    {
      "cell_type": "markdown",
      "metadata": {
        "id": "mJusl5bjl_LH"
      },
      "source": [
        "## Advanced Techniques\n",
        "\n",
        "### **Nested Conditional Statements**  \n",
        "Nest conditions for more complex decision-making.\n"
      ]
    },
    {
      "cell_type": "code",
      "execution_count": 6,
      "metadata": {
        "colab": {
          "base_uri": "https://localhost:8080/"
        },
        "id": "lLKgemn0mC1y",
        "outputId": "fcec1cbd-9fde-45ab-f501-f1a91102e70b"
      },
      "outputs": [
        {
          "name": "stdout",
          "output_type": "stream",
          "text": [
            "Spend more to qualify.\n"
          ]
        }
      ],
      "source": [
        "is_member = True\n",
        "purchase_amount = 200\n",
        "\n",
        "if is_member:\n",
        "    if purchase_amount > 200:\n",
        "        print(\"You qualify for a 10% discount!\")\n",
        "    else:\n",
        "        print(\"Spend more to qualify.\")\n",
        "else:\n",
        "    print(\"Join as a member for discounts!\")"
      ]
    },
    {
      "cell_type": "markdown",
      "metadata": {
        "id": "WJOPLLgbm4-f"
      },
      "source": [
        "### **Independent Conditions**  \n",
        "Evaluate multiple unrelated conditions independently."
      ]
    },
    {
      "cell_type": "code",
      "execution_count": 7,
      "metadata": {
        "colab": {
          "base_uri": "https://localhost:8080/"
        },
        "id": "KCKoBc4Nm7tB",
        "outputId": "c8da0e26-22c0-4c9e-e8db-230a12f6ee63"
      },
      "outputs": [
        {
          "name": "stdout",
          "output_type": "stream",
          "text": [
            "Turning off the lights.\n",
            "Locking the doors.\n"
          ]
        }
      ],
      "source": [
        "lights_on = True\n",
        "doors_locked = False\n",
        "\n",
        "if lights_on:\n",
        "    print(\"Turning off the lights.\")\n",
        "if not doors_locked:\n",
        "    print(\"Locking the doors.\")\n"
      ]
    },
    {
      "cell_type": "markdown",
      "metadata": {
        "id": "QD_LjZqtnZrj"
      },
      "source": [
        "---\n",
        "\n",
        "## Why It Matters\n",
        "\n",
        "Conditional statements make code:  \n",
        "- **Dynamic:** Adapt to real-world scenarios.  \n",
        "- **Flexible:** Handle diverse inputs.  \n",
        "- **Intelligent:** Solve problems like user interaction, automation, and more.\n",
        "\n",
        "---\n",
        "\n",
        "### Examples in Action\n",
        "\n"
      ]
    },
    {
      "cell_type": "markdown",
      "metadata": {
        "id": "-vflcUG856Bq"
      },
      "source": [
        "#### **1. Grading System**"
      ]
    },
    {
      "cell_type": "code",
      "execution_count": 29,
      "metadata": {
        "colab": {
          "base_uri": "https://localhost:8080/"
        },
        "id": "QNMuJ8Q8nnSn",
        "outputId": "efa283a8-62b7-4e1a-ef4f-865fd7ec5875"
      },
      "outputs": [
        {
          "name": "stdout",
          "output_type": "stream",
          "text": [
            "Grade: B\n"
          ]
        }
      ],
      "source": [
        "score = 85\n",
        "\n",
        "if score >= 90:\n",
        "    print(\"Grade: A\")\n",
        "elif score >= 80:\n",
        "    print(\"Grade: B\")\n",
        "elif score >= 70:\n",
        "    print(\"Grade: C\")\n",
        "else:\n",
        "    print(\"Grade: F\")\n"
      ]
    },
    {
      "cell_type": "markdown",
      "metadata": {
        "id": "jaljNBG_oEi9"
      },
      "source": [
        "## Takeaway\n",
        "\n",
        "Conditional statements are the backbone of decision-making in Python. Whether you need a simple `if` or complex nested logic, mastering these tools unlocks smarter, more flexible programming."
      ]
    },
    {
      "cell_type": "markdown",
      "metadata": {
        "id": "XffNkIJRtQUC"
      },
      "source": [
        "# Logical Operators in Python\n",
        "\n",
        "## Smarter Decisions in Code\n",
        "\n",
        "Imagine you're creating a game that gives rewards:\n",
        "\n",
        "- A big bonus if the player scores above 50 **and** completes the level.  \n",
        "- A small bonus if the player completes the level **or** finds a hidden item.  \n",
        "- No bonus if neither condition is met.\n",
        "\n",
        "How can your code check these conditions together? This is where **logical operators** help.\n",
        "\n",
        "### Logical Operators in Python -- Revision\n",
        "\n",
        "- **`and`**: All conditions must be true.  \n",
        "- **`or`**: At least one condition must be true.  \n",
        "- **`not`**: Reverses a condition (true becomes false).  \n",
        "\n",
        "### Example:"
      ]
    },
    {
      "cell_type": "code",
      "execution_count": 8,
      "metadata": {
        "colab": {
          "base_uri": "https://localhost:8080/"
        },
        "id": "R_I_yvFatTpr",
        "outputId": "5350b75b-de74-407b-9707-337ce275cb53"
      },
      "outputs": [
        {
          "name": "stdout",
          "output_type": "stream",
          "text": [
            "Big bonus unlocked!\n"
          ]
        }
      ],
      "source": [
        "score = 55\n",
        "level_completed = True\n",
        "hidden_item_found = False\n",
        "\n",
        "if score > 50 and level_completed:\n",
        "    print(\"Big bonus unlocked!\")\n",
        "elif level_completed or hidden_item_found:\n",
        "    print(\"Small bonus unlocked!\")\n",
        "else:\n",
        "    print(\"No bonus. Try again!\")"
      ]
    },
    {
      "cell_type": "markdown",
      "metadata": {
        "id": "lKub6zA5xVw8"
      },
      "source": [
        "Here are the truth tables for Python's logical operators: **`and`**, **`or`**, and **`not`**.\n",
        "\n",
        "### **Truth Table for `and`**\n",
        "`and` returns `True` if **both conditions** are `True`.\n",
        "\n",
        "| Condition 1 | Condition 2 | Result (`Condition 1 and Condition 2`) |\n",
        "|-------------|-------------|-----------------------------------------|\n",
        "| `True`      | `True`      | `True`                                  |\n",
        "| `True`      | `False`     | `False`                                 |\n",
        "| `False`     | `True`      | `False`                                 |\n",
        "| `False`     | `False`     | `False`                                 |\n",
        "\n",
        "---\n",
        "\n",
        "### **Truth Table for `or`**\n",
        "`or` returns `True` if **at least one condition** is `True`.\n",
        "\n",
        "| Condition 1 | Condition 2 | Result (`Condition 1 or Condition 2`) |\n",
        "|-------------|-------------|----------------------------------------|\n",
        "| `True`      | `True`      | `True`                                 |\n",
        "| `True`      | `False`     | `True`                                 |\n",
        "| `False`     | `True`      | `True`                                 |\n",
        "| `False`     | `False`     | `False`                                |\n",
        "\n",
        "---\n",
        "\n",
        "### **Truth Table for `not`**\n",
        "`not` reverses the condition (i.e., `True` becomes `False`, and vice versa).\n",
        "\n",
        "| Condition   | Result (`not Condition`) |\n",
        "|-------------|---------------------------|\n",
        "| `True`      | `False`                   |\n",
        "| `False`     | `True`                    |\n",
        "\n",
        "---\n",
        "\n",
        "These truth tables summarize how each logical operator behaves when combining or modifying conditions."
      ]
    },
    {
      "cell_type": "markdown",
      "metadata": {
        "id": "LZb2mC_NLetk"
      },
      "source": [
        "## Projects"
      ]
    },
    {
      "cell_type": "markdown",
      "metadata": {
        "id": "B8FxjigBLhXM"
      },
      "source": [
        "### Project: Grading System\n",
        "Develop a Python program that:\n",
        "- Accepts a numerical score from the user.\n",
        "- Uses `if`, `elif`, and `else` to determine the corresponding grade (A, B, C, F).\n",
        "- Includes nested conditions for advanced grading (e.g., adding \"+\" or \"-\" to the grade based on score ranges).\n"
      ]
    }
  ],
  "metadata": {
    "colab": {
      "provenance": []
    },
    "kernelspec": {
      "display_name": "aiclass",
      "language": "python",
      "name": "python3"
    },
    "language_info": {
      "codemirror_mode": {
        "name": "ipython",
        "version": 3
      },
      "file_extension": ".py",
      "mimetype": "text/x-python",
      "name": "python",
      "nbconvert_exporter": "python",
      "pygments_lexer": "ipython3",
      "version": "3.12.0"
    }
  },
  "nbformat": 4,
  "nbformat_minor": 0
}
