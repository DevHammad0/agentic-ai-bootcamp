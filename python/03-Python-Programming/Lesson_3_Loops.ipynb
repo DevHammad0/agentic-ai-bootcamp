{
  "cells": [
    {
      "cell_type": "markdown",
      "metadata": {
        "id": "u9tBb9z2SjcK"
      },
      "source": [
        "# Problem and Solution\n",
        "## The Problem:\n",
        "\n",
        "Imagine you’re organizing a birthday party and you want to send an invitation message to 50 of your friends. Without any tools or shortcuts, you would have to write the same message 50 times, changing only the name of each friend. This is repetitive and time-consuming.\n",
        "\n",
        "you would have to manually send each message like this:\n",
        "\n",
        "```\n",
        "print(\"Hi Alice, you’re invited to my birthday party!\")\n",
        "print(\"Hi Bob, you’re invited to my birthday party!\")\n",
        "print(\"Hi Charlie, you’re invited to my birthday party!\")\n",
        "# ...and so on, for 50 friends\n",
        "```\n",
        "\n",
        "If you have a long list of friends, this approach quickly becomes impractical. Not only does it take a lot of time, but if you want to change the message later, you’d have to edit each line individually.\n",
        "\n",
        "## The Solution: Using Loops to Automate Invitations\n",
        "\n",
        "Now, let’s say you want to automate this process. You can use a loop to send the same message to all your friends with just a few lines of code"
      ]
    },
    {
      "cell_type": "code",
      "execution_count": null,
      "metadata": {
        "id": "gwarOKI5ufme"
      },
      "outputs": [],
      "source": [
        "friends = [\"Alice\", \"Bob\", \"Charlie\", \"David\", \"Eve\"]  # and so on, up to any number of names\n",
        "\n",
        "print(\"Hi friends[0] you’re invited to my birthday party!\")\n",
        "print(\"Hi friends[1] you’re invited to my birthday party!\")\n",
        "print(\"Hi friends[2] you’re invited to my birthday party!\")\n",
        "print(\"Hi friends[3] you’re invited to my birthday party!\")\n",
        "print(\"Hi friends[4] you’re invited to my birthday party!\")"
      ]
    },
    {
      "cell_type": "code",
      "execution_count": null,
      "metadata": {
        "id": "Q_kNEf_zScoS"
      },
      "outputs": [],
      "source": [
        "friends = [\"Alice\", \"Bob\", \"Charlie\", \"David\", \"Eve\"]  # and so on, up to any number of names\n",
        "\n",
        "for friend in friends:\n",
        "    print(f\"Hi {friend}, you’re invited to my birthday party!\")"
      ]
    },
    {
      "cell_type": "markdown",
      "metadata": {
        "id": "_4alw5VrT6hD"
      },
      "source": [
        "# For Loop\n",
        "\n",
        "The for loop is used to iterate over a sequence (like a list, tuple, set, string, dictionary) or any other iterable object. It allows you to execute a block of code a specific number of times, usually determined by the length of the sequence or the range of values.\n",
        "\n",
        "### Syntax\n",
        "\n",
        "```\n",
        "for item in iterable:\n",
        "    # Execute this block of code\n",
        "```\n"
      ]
    },
    {
      "cell_type": "markdown",
      "metadata": {
        "id": "WG3-dW3KT_4h"
      },
      "source": [
        "### Iterating over a list"
      ]
    },
    {
      "cell_type": "code",
      "execution_count": null,
      "metadata": {
        "id": "GnyRxm77UDTC"
      },
      "outputs": [],
      "source": [
        "from typing import List\n",
        "fruits : List[str] = [\"apple\", \"banana\", \"cherry\"]\n",
        "for fruit in fruits:\n",
        "    print(fruit)"
      ]
    },
    {
      "cell_type": "code",
      "execution_count": null,
      "metadata": {
        "id": "tDmebhSxZXxa"
      },
      "outputs": [],
      "source": [
        "# simple for loop which print hello 5 times\n",
        "# _: A common convention in Python to indicate that the variable is unused in the loop.\n",
        "for _ in range(5):\n",
        "  print(\"hello\")"
      ]
    },
    {
      "cell_type": "markdown",
      "metadata": {
        "id": "a8I3w4UxUIqx"
      },
      "source": [
        "### Iterating over a string"
      ]
    },
    {
      "cell_type": "code",
      "execution_count": null,
      "metadata": {
        "id": "UiSrg0G1UK9f"
      },
      "outputs": [],
      "source": [
        "for letter in \"Python\":\n",
        "    print(letter)"
      ]
    },
    {
      "cell_type": "markdown",
      "metadata": {
        "id": "oTR6LwFAUO6_"
      },
      "source": [
        "### Using range() in `for` loop"
      ]
    },
    {
      "cell_type": "code",
      "execution_count": 1,
      "metadata": {
        "id": "gtxby7BmUg-i"
      },
      "outputs": [
        {
          "name": "stdout",
          "output_type": "stream",
          "text": [
            "range(0, 5)\n"
          ]
        }
      ],
      "source": [
        "value = range(5)\n",
        "print(value)"
      ]
    },
    {
      "cell_type": "code",
      "execution_count": 5,
      "metadata": {
        "id": "XD2d5EY1URsR"
      },
      "outputs": [
        {
          "name": "stdout",
          "output_type": "stream",
          "text": [
            "0\n",
            "1\n",
            "2\n",
            "3\n",
            "4\n"
          ]
        }
      ],
      "source": [
        "for i in range(5):\n",
        "    print(i)"
      ]
    },
    {
      "cell_type": "markdown",
      "metadata": {
        "id": "_J-JDS1FUWaC"
      },
      "source": [
        "### Specifying a start and end in range()"
      ]
    },
    {
      "cell_type": "code",
      "execution_count": null,
      "metadata": {
        "id": "OvrpwOa2UY8Y"
      },
      "outputs": [],
      "source": [
        "for i in range(2, 6):\n",
        "    print(i)"
      ]
    },
    {
      "cell_type": "markdown",
      "metadata": {
        "id": "BpGpa4XaU8Td"
      },
      "source": [
        "### Using a step in range()"
      ]
    },
    {
      "cell_type": "code",
      "execution_count": null,
      "metadata": {
        "id": "WyN5n5H9U9Vt"
      },
      "outputs": [],
      "source": [
        "for i in range(1, 10, 2):\n",
        "    print(i)"
      ]
    },
    {
      "cell_type": "markdown",
      "metadata": {
        "id": "eRFfSlvxBZfK"
      },
      "source": [
        "# While Loop\n",
        "\n",
        "A `while` loop repeatedly executes a block of code **as long as a specified condition is `True`**. It's ideal when you don't know in advance how many times you need to iterate.\n",
        "\n",
        "### Syntax\n",
        "\n",
        "```python\n",
        "while condition:\n",
        "    # Code to execute\n",
        "```\n",
        "\n",
        "### Key Points\n",
        "\n",
        "- **Condition-Based:** The loop runs while the condition remains `True`.\n",
        "- **Risk of Infinite Loop:** Ensure the condition will eventually become `False` by updating variables inside the loop.\n",
        "\n",
        "### Example 1:\n"
      ]
    },
    {
      "cell_type": "code",
      "execution_count": null,
      "metadata": {
        "id": "f8TGNBdRBcxA"
      },
      "outputs": [],
      "source": [
        "# Counting from 1 to 5 using a while loop\n",
        "counter = 1\n",
        "while counter <= 5:\n",
        "    print(counter)\n",
        "    counter += 1\n"
      ]
    },
    {
      "cell_type": "markdown",
      "metadata": {
        "id": "d5yJv1T5DFry"
      },
      "source": [
        "### Example 2: while Loop with a Condition. Number of iteration isn't predefined.\n",
        "You can use a while loop to keep prompting the user until they enter a valid input."
      ]
    },
    {
      "cell_type": "code",
      "execution_count": null,
      "metadata": {
        "id": "tq3qXX8wDReX"
      },
      "outputs": [],
      "source": [
        "password = \"\"\n",
        "while password != \"Pass123\":\n",
        "    password = input(\"Enter the password: \")\n",
        "\n",
        "print(\"Access granted\")"
      ]
    },
    {
      "cell_type": "markdown",
      "metadata": {
        "id": "QiQGVGM6C6o-"
      },
      "source": [
        "### Example 3: Infinite while Loop\n",
        "A while loop can run indefinitely if the condition never becomes False. This is known as an infinite loop, and it will continue to run until you manually stop it or break out of it with a break statement.\n"
      ]
    },
    {
      "cell_type": "code",
      "execution_count": null,
      "metadata": {
        "id": "SL0J2qhyC7vu"
      },
      "outputs": [],
      "source": [
        "while True:\n",
        "    print(\"This loop will run forever\")d\n",
        "    # You can include a break condition to exit the loop"
      ]
    },
    {
      "cell_type": "markdown",
      "metadata": {
        "id": "BpnjWK6GBtlD"
      },
      "source": [
        "# While Loop vs For Loop\n",
        "\n",
        "### Key Differences\n",
        "\n",
        "- **Usage:**\n",
        "  - **`while` loop:** Use when the number of iterations **is not known** ahead of time and depends on a condition.\n",
        "  - **`for` loop:** Use when iterating over a sequence or a range where the number of iterations **is known**.\n",
        "\n",
        "- **Control Mechanism:**\n",
        "  - **`while` loop:** Controlled by a condition.\n",
        "  - **`for` loop:** Iterates over items in a sequence (like a list, range, or string).\n",
        "\n",
        "### Syntax Comparison\n",
        "\n",
        "```python\n",
        "# while loop\n",
        "while condition:\n",
        "    # Code block\n",
        "\n",
        "# for loop\n",
        "for item in iterable:\n",
        "    # Code block\n",
        "```\n",
        "\n",
        "### Examples\n",
        "\n",
        "**Using `while` Loop:**"
      ]
    },
    {
      "cell_type": "code",
      "execution_count": null,
      "metadata": {
        "id": "QrMzZ-TYCHKd"
      },
      "outputs": [],
      "source": [
        "# Counting down from 5 to 1\n",
        "count = 5\n",
        "while count > 0:\n",
        "    print(count)\n",
        "    count -= 1"
      ]
    },
    {
      "cell_type": "markdown",
      "metadata": {
        "id": "t1gq2WZqCKMh"
      },
      "source": [
        "\n",
        "**Using `for` Loop:**"
      ]
    },
    {
      "cell_type": "code",
      "execution_count": null,
      "metadata": {
        "id": "R1hr-iziCTFH"
      },
      "outputs": [],
      "source": [
        "# Counting down from 5 to 1\n",
        "for number in range(5, 0,-1):\n",
        "    print(number)"
      ]
    },
    {
      "cell_type": "markdown",
      "metadata": {
        "id": "415wLEYsB858"
      },
      "source": [
        "\n",
        "### When to Use Each Loop\n",
        "\n",
        "- **Use `while` loop when:**\n",
        "  - The loop should continue until a specific condition is met.\n",
        "  - The number of iterations isn't predetermined.\n",
        "\n",
        "- **Use `for` loop when:**\n",
        "  - You need to iterate over elements in a collection or range.\n",
        "  - The number of iterations is known or can be calculated.\n",
        "\n",
        "---\n",
        "\n",
        "By understanding these differences, you can choose the loop that best fits your programming needs."
      ]
    },
    {
      "cell_type": "markdown",
      "metadata": {
        "id": "D2BuUKZaLwm7"
      },
      "source": [
        "# Python provides some statements to control the flow of loops:\n",
        "\n",
        "The continue and break statements are control flow tools in Python that allow you to alter the behavior of loops (for and while loops). They provide ways to skip iterations or exit loops prematurely based on specific conditions.\n"
      ]
    },
    {
      "cell_type": "markdown",
      "metadata": {
        "id": "zHUgbXG9L8dx"
      },
      "source": [
        "## 1. break Statement\n",
        "\n",
        "The break statement is used to exit a loop immediately, regardless of the loop’s condition. When break is encountered, the loop terminates, and the program continues with the next statement after the loop.\n",
        "\n",
        "***Use in a for Loop***\n"
      ]
    },
    {
      "cell_type": "code",
      "execution_count": null,
      "metadata": {
        "id": "_JmiosphL-MO"
      },
      "outputs": [],
      "source": [
        "for i in range(1, 11):\n",
        "    if i == 5:\n",
        "        break  # Exit the loop when i is 5\n",
        "    print(i)"
      ]
    },
    {
      "cell_type": "markdown",
      "metadata": {
        "id": "B-6nUm6RMGac"
      },
      "source": [
        "***Use in a while Loop***"
      ]
    },
    {
      "cell_type": "code",
      "execution_count": null,
      "metadata": {
        "id": "bvbSr7r6MHdE"
      },
      "outputs": [],
      "source": [
        "count = 0\n",
        "while count < 10:\n",
        "    print(count)\n",
        "    count += 1\n",
        "    if count == 5:\n",
        "        break  # Exit the loop when count is 5"
      ]
    },
    {
      "cell_type": "markdown",
      "metadata": {
        "id": "KQZyJjs9MP-C"
      },
      "source": [
        "## 2. continue Statement\n",
        "\n",
        "The continue statement is used to skip the current iteration of a loop and proceed with the next iteration. When continue is encountered, the loop doesn’t terminate; it just skips the remaining code in the current iteration and moves on to the next iteration.\n",
        "\n",
        "***Use in a for Loop***"
      ]
    },
    {
      "cell_type": "code",
      "execution_count": null,
      "metadata": {
        "id": "3tp_UbdqMRtc"
      },
      "outputs": [],
      "source": [
        "for i in range(1, 6):\n",
        "    if i == 3:\n",
        "        continue  # Skip the iteration when i is 3\n",
        "    print(i)"
      ]
    },
    {
      "cell_type": "markdown",
      "metadata": {
        "id": "htKzgWjvMYGg"
      },
      "source": [
        "***Use in a while Loop***"
      ]
    },
    {
      "cell_type": "code",
      "execution_count": null,
      "metadata": {
        "id": "Fdby0kTIMZLP"
      },
      "outputs": [],
      "source": [
        "count = 0\n",
        "while count < 5:\n",
        "    count += 1\n",
        "    if count == 3:\n",
        "        continue  # Skip the rest of the loop when count is 3\n",
        "    print(count)"
      ]
    },
    {
      "cell_type": "markdown",
      "metadata": {
        "id": "nIzc6ix5Mgdf"
      },
      "source": [
        "When to Use break and continue:\n",
        "\n",
        "**break**:\n",
        "-\tExiting a loop when a certain condition is met (e.g., finding an item in a list and stopping further search).\n",
        "- Preventing infinite loops when a certain condition occurs.\n",
        "\n",
        "**continue**:\n",
        "- Skipping certain values in a loop (e.g., skipping over unwanted data or values that don’t need processing).\n",
        "- Avoiding unnecessary computations or actions within specific loop iterations.\n",
        "\n",
        "\n",
        "Both break and continue are powerful tools for managing the flow of loops, allowing you to fine-tune how and when specific blocks of code are executed.\n"
      ]
    },
    {
      "cell_type": "markdown",
      "metadata": {
        "id": "HLFnrBk7NSLO"
      },
      "source": [
        "## Projects"
      ]
    },
    {
      "cell_type": "markdown",
      "metadata": {
        "id": "yREvT5d-Na_T"
      },
      "source": [
        "### Project 1: Number Analysis\n",
        "Create a program that:\n",
        "- Asks the user to input a range of numbers.\n",
        "- Uses a `for` loop to calculate the sum of all even numbers in the range.\n",
        "- Skips numbers divisible by 5 using the `continue` statement.\n"
      ]
    },
    {
      "cell_type": "markdown",
      "metadata": {
        "id": "BdfKSSZuNe_J"
      },
      "source": [
        "### Project 2: Countdown Timer\n",
        "Write a Python script that:\n",
        "- Uses a `while` loop to implement a countdown timer.\n",
        "- Counts down from a user-defined number to zero.\n",
        "- Prints a message when the countdown reaches zero.\n"
      ]
    }
  ],
  "metadata": {
    "colab": {
      "provenance": []
    },
    "kernelspec": {
      "display_name": "aiclass",
      "language": "python",
      "name": "python3"
    },
    "language_info": {
      "codemirror_mode": {
        "name": "ipython",
        "version": 3
      },
      "file_extension": ".py",
      "mimetype": "text/x-python",
      "name": "python",
      "nbconvert_exporter": "python",
      "pygments_lexer": "ipython3",
      "version": "3.12.0"
    }
  },
  "nbformat": 4,
  "nbformat_minor": 0
}
