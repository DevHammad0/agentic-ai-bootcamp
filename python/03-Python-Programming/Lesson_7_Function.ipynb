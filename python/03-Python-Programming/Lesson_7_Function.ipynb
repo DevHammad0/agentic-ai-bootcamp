{
  "cells": [
    {
      "cell_type": "markdown",
      "id": "179e4aba",
      "metadata": {
        "id": "179e4aba"
      },
      "source": [
        "# 1. Functions in Python"
      ]
    },
    {
      "cell_type": "markdown",
      "id": "b0fe05fe",
      "metadata": {
        "id": "b0fe05fe"
      },
      "source": [
        "Functions are reusable blocks of code that perform a specific task. They help simplify repetitive operations, improve code organization, and reduce redundancy."
      ]
    },
    {
      "cell_type": "markdown",
      "id": "5646d517",
      "metadata": {
        "id": "5646d517"
      },
      "source": [
        "## 1.1 Why Use Functions?"
      ]
    },
    {
      "cell_type": "markdown",
      "id": "36fe0bf7",
      "metadata": {
        "id": "36fe0bf7"
      },
      "source": [
        "- **Code Reusability:** Write once, use multiple times.\n",
        "- **Avoid Code Duplication:** Keep your code DRY (Don’t Repeat Yourself).\n",
        "- **Simplify Debugging:** Isolate functionality, making issues easier to locate and fix.\n",
        "- **Modular Design:** Break down complex problems into smaller, manageable tasks."
      ]
    },
    {
      "cell_type": "markdown",
      "id": "c4e0372d",
      "metadata": {
        "id": "c4e0372d"
      },
      "source": [
        "> **Best Practice:** Adhere to the [PEP 8](https://peps.python.org/pep-0008/) naming conventions for functions. Use lowercase letters and underscores (e.g., calculate_total, not CalculateTotal)."
      ]
    },
    {
      "cell_type": "markdown",
      "id": "2d08c6c2",
      "metadata": {
        "id": "2d08c6c2"
      },
      "source": [
        "## 1.2 Types of Functions"
      ]
    },
    {
      "cell_type": "markdown",
      "id": "4618f31e",
      "metadata": {
        "id": "4618f31e"
      },
      "source": [
        "1. **Built-in Functions:** Predefined functions like print(), len(), type(), etc.\n",
        "2. **User-Defined Functions:** Functions written by users to address specific requirements."
      ]
    },
    {
      "cell_type": "markdown",
      "id": "8e0b68df",
      "metadata": {
        "id": "8e0b68df"
      },
      "source": [
        "## 1.3 Creating and Using Functions"
      ]
    },
    {
      "cell_type": "markdown",
      "id": "02f90151",
      "metadata": {
        "id": "02f90151"
      },
      "source": [
        "You define a function using the def keyword followed by a function name, parentheses, and a colon. The function’s body is indented, and you can optionally include a return statement to send a value back to the caller."
      ]
    },
    {
      "cell_type": "markdown",
      "id": "1d28aa1d",
      "metadata": {
        "id": "1d28aa1d"
      },
      "source": [
        "**Syntax**:\n",
        "```python\n",
        " def function_name(parameters):\n",
        "    # Optional docstring\n",
        "    # Function body\n",
        "    return result\n",
        "```"
      ]
    },
    {
      "cell_type": "markdown",
      "id": "9ab5768e",
      "metadata": {
        "id": "9ab5768e"
      },
      "source": [
        "To call (invoke) the function, simply use:"
      ]
    },
    {
      "cell_type": "markdown",
      "id": "997430a4",
      "metadata": {
        "id": "997430a4"
      },
      "source": [
        "```python\n",
        " function_name(arguments)\n",
        "```"
      ]
    },
    {
      "cell_type": "markdown",
      "id": "3256c8d8",
      "metadata": {
        "id": "3256c8d8"
      },
      "source": [
        "> **Tip:** Include a docstring (triple-quoted string) inside your function to describe its purpose, parameters, and return value. This helps with readability and maintenance.\n",
        "\n",
        "> A **docstring** in a Python function provides a concise description of the function's purpose, parameters, and return values. It improves code readability and serves as documentation for developers.\n",
        "\n",
        "> In tools like **LangChain** and **LangGraph**, docstrings can be used to generate automated documentation for chains, agents, and components. This is particularly valuable for managing and explaining complex workflows, enabling seamless collaboration and faster debugging in AI projects."
      ]
    },
    {
      "cell_type": "markdown",
      "id": "154b77cf",
      "metadata": {
        "id": "154b77cf"
      },
      "source": [
        "## 1.4 Example: A Simple Function"
      ]
    },
    {
      "cell_type": "markdown",
      "id": "0dc2901d",
      "metadata": {
        "id": "0dc2901d"
      },
      "source": [
        "Creating a reusable function that prompts the user for a number and prints it:"
      ]
    },
    {
      "cell_type": "code",
      "execution_count": 1,
      "id": "17dc2970",
      "metadata": {
        "id": "17dc2970"
      },
      "outputs": [],
      "source": [
        "\n",
        "def print_number():\n",
        "    \"\"\"Prompts the user for a number and prints it.\"\"\"\n",
        "    number = int(input(\"Enter a number: \"))\n",
        "    print(f\"You entered: {number}\")\n"
      ]
    },
    {
      "cell_type": "code",
      "execution_count": 2,
      "id": "OP7V6U-64w6C",
      "metadata": {
        "colab": {
          "base_uri": "https://localhost:8080/"
        },
        "id": "OP7V6U-64w6C",
        "outputId": "c4793733-4a8a-4e19-fe39-fb152001883c"
      },
      "outputs": [
        {
          "name": "stdout",
          "output_type": "stream",
          "text": [
            "Enter a number: 6\n",
            "You entered: 6\n"
          ]
        }
      ],
      "source": [
        "print_number()"
      ]
    },
    {
      "cell_type": "markdown",
      "id": "0b920c93",
      "metadata": {
        "id": "0b920c93"
      },
      "source": [
        "# 2. Function Parameters and Arguments"
      ]
    },
    {
      "cell_type": "markdown",
      "id": "3377c623",
      "metadata": {
        "id": "3377c623"
      },
      "source": [
        "Functions can optionally accept inputs (parameters) to handle data more flexibly and dynamically."
      ]
    },
    {
      "cell_type": "markdown",
      "id": "cca255e7",
      "metadata": {
        "id": "cca255e7"
      },
      "source": [
        "## 2.1 Parameterless Functions"
      ]
    },
    {
      "cell_type": "markdown",
      "id": "0162d7e3",
      "metadata": {
        "id": "0162d7e3"
      },
      "source": [
        "A function without parameters:"
      ]
    },
    {
      "cell_type": "code",
      "execution_count": 2,
      "id": "c3952d27",
      "metadata": {
        "colab": {
          "base_uri": "https://localhost:8080/"
        },
        "id": "c3952d27",
        "outputId": "b0b8ed7a-ac8f-498a-82dd-67f7a14c1d28"
      },
      "outputs": [
        {
          "name": "stdout",
          "output_type": "stream",
          "text": [
            "Hello!\n"
          ]
        }
      ],
      "source": [
        "\n",
        "def greet():\n",
        "    \"\"\"\n",
        "    Prints a greeting.\n",
        "    \"\"\"\n",
        "    print(\"Hello!\")\n",
        "\n",
        "greet()"
      ]
    },
    {
      "cell_type": "markdown",
      "id": "4f27eb46",
      "metadata": {
        "id": "4f27eb46"
      },
      "source": [
        "## 2.2 Parameterized Functions"
      ]
    },
    {
      "cell_type": "markdown",
      "id": "5913d04a",
      "metadata": {
        "id": "5913d04a"
      },
      "source": [
        "A function with parameters:"
      ]
    },
    {
      "cell_type": "code",
      "execution_count": 3,
      "id": "13a784c8",
      "metadata": {
        "colab": {
          "base_uri": "https://localhost:8080/"
        },
        "id": "13a784c8",
        "outputId": "47a6728b-cce4-40cd-a4f6-8f939f21d633"
      },
      "outputs": [
        {
          "name": "stdout",
          "output_type": "stream",
          "text": [
            "Hello, Ali!\n"
          ]
        }
      ],
      "source": [
        "def greet(name: str):\n",
        "    \"\"\"\n",
        "    Prints a personalized greeting using the provided name.\n",
        "    \"\"\"\n",
        "    print(f\"Hello, {name}!\")\n",
        "\n",
        "greet(\"Ali\")"
      ]
    },
    {
      "cell_type": "markdown",
      "id": "4de94a09",
      "metadata": {
        "id": "4de94a09"
      },
      "source": [
        "## 2.3 Difference Between Parameters and Arguments"
      ]
    },
    {
      "cell_type": "markdown",
      "id": "9fba6cab",
      "metadata": {
        "id": "9fba6cab"
      },
      "source": [
        "- **Parameters:** Variables listed inside the parentheses in the function definition.\n",
        "- **Arguments:** Values passed into the function when it is invoked."
      ]
    },
    {
      "cell_type": "markdown",
      "id": "b7e092c3",
      "metadata": {
        "id": "b7e092c3"
      },
      "source": [
        "> **Additional Insight:** Python allows default parameter values, which can be especially handy:"
      ]
    },
    {
      "cell_type": "code",
      "execution_count": 4,
      "id": "0cfc6f14",
      "metadata": {
        "colab": {
          "base_uri": "https://localhost:8080/"
        },
        "id": "0cfc6f14",
        "outputId": "3b311c30-9026-4013-b0cc-7fb618cfb860"
      },
      "outputs": [
        {
          "name": "stdout",
          "output_type": "stream",
          "text": [
            "Hello, Guest!\n",
            "Hello, Alice!\n"
          ]
        }
      ],
      "source": [
        "def greet(name=\"Guest\"):\n",
        "    print(f\"Hello, {name}!\")\n",
        "\n",
        "greet()\n",
        "greet(\"Alice\")"
      ]
    },
    {
      "cell_type": "markdown",
      "id": "49dd3fff",
      "metadata": {
        "id": "49dd3fff"
      },
      "source": [
        "# 3. Function Return Types"
      ]
    },
    {
      "cell_type": "markdown",
      "id": "47330a05",
      "metadata": {
        "id": "47330a05"
      },
      "source": [
        "Functions can (optionally) return results using the return keyword. If no return is specified, the function returns None."
      ]
    },
    {
      "cell_type": "markdown",
      "id": "f513d43e",
      "metadata": {
        "id": "f513d43e"
      },
      "source": [
        "## 3.1 Single Value Return"
      ]
    },
    {
      "cell_type": "code",
      "execution_count": 5,
      "id": "461c3a2f",
      "metadata": {
        "colab": {
          "base_uri": "https://localhost:8080/"
        },
        "id": "461c3a2f",
        "outputId": "cdf0b46f-17d0-41da-da40-acf0c793feeb"
      },
      "outputs": [
        {
          "name": "stdout",
          "output_type": "stream",
          "text": [
            "9\n"
          ]
        }
      ],
      "source": [
        "def add(a, b):\n",
        "    \"\"\"\n",
        "    Returns the sum of two numbers.\n",
        "    \"\"\"\n",
        "    # result = a + b\n",
        "    # return result\n",
        "    return a + b\n",
        "\n",
        "result = add(4, 5)\n",
        "print(result)"
      ]
    },
    {
      "cell_type": "markdown",
      "id": "b288d088",
      "metadata": {
        "id": "b288d088"
      },
      "source": [
        "## 3.2 Return Multiple Values"
      ]
    },
    {
      "cell_type": "markdown",
      "id": "914ebf63",
      "metadata": {
        "id": "914ebf63"
      },
      "source": [
        "You can return multiple values in one go (Python treats these as a tuple under the hood):"
      ]
    },
    {
      "cell_type": "code",
      "execution_count": 6,
      "id": "e5ed7728",
      "metadata": {
        "colab": {
          "base_uri": "https://localhost:8080/"
        },
        "id": "e5ed7728",
        "outputId": "b2ff05ff-86bb-4390-c79d-bed6e089f08c"
      },
      "outputs": [
        {
          "name": "stdout",
          "output_type": "stream",
          "text": [
            "(8, 15)\n",
            "Sum: 8, Product: 15\n"
          ]
        }
      ],
      "source": [
        "def operations(a, b):\n",
        "    \"\"\"\n",
        "    Returns both the sum and product of two numbers.\n",
        "    \"\"\"\n",
        "    return a + b, a * b\n",
        "result = operations(3,5)\n",
        "print(result)\n",
        "\n",
        "sum_val, prod_val = operations(3, 5)\n",
        "print(f\"Sum: {sum_val}, Product: {prod_val}\")"
      ]
    },
    {
      "cell_type": "markdown",
      "id": "f6b35cb0",
      "metadata": {
        "id": "f6b35cb0"
      },
      "source": [
        "## 3.3 Returning Collections"
      ]
    },
    {
      "cell_type": "markdown",
      "id": "96040d15",
      "metadata": {
        "id": "96040d15"
      },
      "source": [
        "You can return data structures like lists, tuples, dictionaries, etc.:"
      ]
    },
    {
      "cell_type": "code",
      "execution_count": 7,
      "id": "44252c02",
      "metadata": {
        "colab": {
          "base_uri": "https://localhost:8080/"
        },
        "id": "44252c02",
        "outputId": "00d5a114-c1e0-4241-96bb-cd40b2017d50"
      },
      "outputs": [
        {
          "name": "stdout",
          "output_type": "stream",
          "text": [
            "{'name': 'Ali', 'age': 20}\n"
          ]
        }
      ],
      "source": [
        "def get_student():\n",
        "    \"\"\"\n",
        "    Returns a dictionary with student data.\n",
        "    \"\"\"\n",
        "    return {\"name\": \"Ali\", \"age\": 20}\n",
        "\n",
        "\n",
        "print(get_student())\n",
        "\n"
      ]
    },
    {
      "cell_type": "markdown",
      "id": "2d765e89",
      "metadata": {
        "id": "2d765e89"
      },
      "source": [
        "Arguments are assigned to parameters based on their position:"
      ]
    },
    {
      "cell_type": "markdown",
      "id": "9e71f7d5",
      "metadata": {
        "id": "9e71f7d5"
      },
      "source": [
        "Arguments are explicitly named, so the order does not matter:"
      ]
    },
    {
      "cell_type": "markdown",
      "id": "5da77d4e",
      "metadata": {
        "id": "5da77d4e"
      },
      "source": [
        "# 6. Scope of Variables"
      ]
    },
    {
      "cell_type": "markdown",
      "id": "5a91242e",
      "metadata": {
        "id": "5a91242e"
      },
      "source": [
        "- **Local Scope:** Variables declared inside a function. Accessible only within that function.\n",
        "- **Global Scope:** Variables declared outside all functions. Accessible throughout the module (unless shadowed by local variables)."
      ]
    },
    {
      "cell_type": "code",
      "execution_count": 48,
      "id": "4o3oOlCmLp8c",
      "metadata": {
        "colab": {
          "base_uri": "https://localhost:8080/"
        },
        "id": "4o3oOlCmLp8c",
        "outputId": "d4406e2e-f0a1-44cc-98c8-61c1071aec06"
      },
      "outputs": [
        {
          "name": "stdout",
          "output_type": "stream",
          "text": [
            "10\n"
          ]
        }
      ],
      "source": [
        "x= 10\n",
        "\n",
        "def func():\n",
        "  x = 20\n",
        "\n",
        "func()\n",
        "print(x)"
      ]
    },
    {
      "cell_type": "code",
      "execution_count": 49,
      "id": "ed539154",
      "metadata": {
        "colab": {
          "base_uri": "https://localhost:8080/"
        },
        "id": "ed539154",
        "outputId": "a637d943-493b-478a-ddca-be478d6c0d5f"
      },
      "outputs": [
        {
          "name": "stdout",
          "output_type": "stream",
          "text": [
            "20\n"
          ]
        }
      ],
      "source": [
        "x = 10  # Global variable\n",
        "\n",
        "def func():\n",
        "    global x\n",
        "    x = 20  # Changing the global variable\n",
        "\n",
        "func()\n",
        "print(x)\n"
      ]
    },
    {
      "cell_type": "markdown",
      "id": "622d6a27",
      "metadata": {
        "id": "622d6a27"
      },
      "source": [
        "> **Best Practice:** Avoid overusing global variables; pass data as function parameters whenever possible for cleaner, more testable code."
      ]
    },
    {
      "cell_type": "markdown",
      "id": "83f2ee3f",
      "metadata": {
        "id": "83f2ee3f"
      },
      "source": [
        "Including robust **docstrings**, following **PEP 8** guidelines, and properly handling **default arguments** and **scopes** are crucial for writing clean, professional Python code."
      ]
    },
    {
      "cell_type": "markdown",
      "id": "6b929564",
      "metadata": {
        "id": "6b929564"
      },
      "source": [
        "## Project 1: Calculator Application\n",
        "\n",
        "**Description**: Create a simple calculator that performs basic arithmetic operations (addition, subtraction, multiplication, division).\n",
        "\n",
        "**Step by step solution:**\n",
        "\n",
        "- Use functions for each arithmetic operation. i.e. add(), subtract() etc.\n",
        "- Create a main function called calculator() to coordinate the program flow.\n",
        "- Accept user input for numbers and operation type.\n",
        "- Apply an if-else statement to handle the selected operation."
      ]
    }
  ],
  "metadata": {
    "colab": {
      "provenance": []
    },
    "kernelspec": {
      "display_name": "aiclass",
      "language": "python",
      "name": "python3"
    },
    "language_info": {
      "codemirror_mode": {
        "name": "ipython",
        "version": 3
      },
      "file_extension": ".py",
      "mimetype": "text/x-python",
      "name": "python",
      "nbconvert_exporter": "python",
      "pygments_lexer": "ipython3",
      "version": "3.12.0"
    }
  },
  "nbformat": 4,
  "nbformat_minor": 5
}
