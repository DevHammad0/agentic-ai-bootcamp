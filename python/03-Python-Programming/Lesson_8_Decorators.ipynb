{
  "cells": [
    {
      "cell_type": "markdown",
      "metadata": {
        "id": "4TKWBDh-fqaT"
      },
      "source": [
        "# Decorators in Python\n",
        "\n",
        "Decorators are powerful tools in Python that allow you to modify the *functionality* of another function. They make your code more concise, modular, and \"Pythonic.\"  \n",
        "**Pythonic** refers to writing code that is clear, efficient, and easy to understand at a glance.\n",
        "\n",
        "Imagine you have a function, and you want to add some extra functionality to it. You have two options:  \n",
        "1. Modify the original function to include the new functionality.  \n",
        "2. Create a new function that includes the original functionality along with the additional features.\n",
        "\n",
        "Now, consider a scenario where you may want to remove this added functionality later. Wouldn't it be great if you could simply toggle this extra functionality on and off without altering the original function or creating multiple versions of it?  \n",
        "\n",
        "This is where **decorators** come into play.  \n",
        "\n",
        "### What Are Decorators?\n",
        "Decorators in Python enable you to add functionality to an existing function in a clean and reusable way. If you no longer need the additional functionality, you can simply remove the decorator from the function definition.\n",
        "\n",
        "Decorators use the `@` operator and are placed directly above the function they modify.\n",
        "\n",
        "---\n",
        "\n",
        "### Structure of a Decorator\n",
        "Here’s a basic example of how a decorator is structured:\n",
        "\n",
        "```python\n",
        "@some_decorator\n",
        "def simple_func():\n",
        "    # Original functionality\n",
        "    return \"Doing something simple\"\n",
        "```\n",
        "\n",
        "In this example:\n",
        "- `@some_decorator` adds extra functionality to `simple_func`.\n",
        "- If you don’t want the added functionality anymore, simply remove the `@some_decorator` line, and `simple_func` will work as it originally did.\n",
        "\n",
        "### Key Benefits of Decorators:\n",
        "- **Modularity**: You can separate additional functionality from the core logic of your function.  \n",
        "- **Flexibility**: Easily toggle functionality on and off by adding or removing the decorator.  \n",
        "- **Reusability**: Apply the same decorator to multiple functions for consistent behavior.\n",
        "\n",
        "Decorators are an elegant solution to modify behavior without cluttering your codebase. By leveraging them, you can keep your code clean and maintainable. "
      ]
    },
    {
      "cell_type": "markdown",
      "metadata": {
        "id": "dhOw1xVivlsC"
      },
      "source": [
        "## Creating function"
      ]
    },
    {
      "cell_type": "code",
      "execution_count": 1,
      "metadata": {
        "colab": {
          "base_uri": "https://localhost:8080/"
        },
        "id": "4t-s_PAvaHF8",
        "outputId": "44eba7f8-c550-404e-ce2d-30b9dd696f61"
      },
      "outputs": [
        {
          "name": "stdout",
          "output_type": "stream",
          "text": [
            "Sum: 8\n"
          ]
        }
      ],
      "source": [
        "def add_numbers(a, b):\n",
        "    return a + b\n",
        "\n",
        "# Example usage\n",
        "result = add_numbers(3, 5)\n",
        "print(\"Sum:\", result)"
      ]
    },
    {
      "cell_type": "markdown",
      "metadata": {
        "id": "I-X6wxWUvu9p"
      },
      "source": [
        "### Adding extra functionality then modify the original function"
      ]
    },
    {
      "cell_type": "code",
      "execution_count": null,
      "metadata": {
        "colab": {
          "base_uri": "https://localhost:8080/"
        },
        "id": "Gtt6bBaSaWR5",
        "outputId": "e70ed2df-9651-4227-9382-64b7b37a455d"
      },
      "outputs": [
        {
          "name": "stdout",
          "output_type": "stream",
          "text": [
            "Sum: 4\n"
          ]
        }
      ],
      "source": [
        "def add_numbers():\n",
        "    a = int(input(\"Enter the first number: \"))  # Taking first input\n",
        "    b = int(input(\"Enter the second number: \"))  # Taking second input\n",
        "    sum_result = a + b \n",
        "    print(\"Sum:\", sum_result)\n",
        "\n",
        "add_numbers()"
      ]
    },
    {
      "cell_type": "markdown",
      "metadata": {
        "id": "k3ilA_FBuAd0"
      },
      "source": [
        "## Decorator Example #1\n",
        "Definition: Input Handling Wrapper"
      ]
    },
    {
      "cell_type": "code",
      "execution_count": 3,
      "metadata": {
        "id": "yEa8OGZYnYW7"
      },
      "outputs": [],
      "source": [
        "# Define a decorator function that takes another function as input\n",
        "    # Define a wrapper function inside the decorator\n",
        "        # Call the original function (func) with the user inputs and return the result\n",
        "    #Return the modified function i.e. the wrapper function, which now includes user input functionality\n",
        "def add_input(func):\n",
        "    def wrapper():\n",
        "        a = int(input(\"Enter the first number: \"))\n",
        "        b = int(input(\"Enter the second number: \"))\n",
        "        return func(a, b)\n",
        "    return wrapper"
      ]
    },
    {
      "cell_type": "markdown",
      "metadata": {
        "id": "Qb_BmeoguEzI"
      },
      "source": [
        "### Manual Decoration Example (Without @ Syntax)"
      ]
    },
    {
      "cell_type": "code",
      "execution_count": 4,
      "metadata": {
        "colab": {
          "base_uri": "https://localhost:8080/"
        },
        "id": "WrBnmKxeuR2n",
        "outputId": "7698d498-98e4-47d7-b624-ff4f506f5fac"
      },
      "outputs": [
        {
          "name": "stdout",
          "output_type": "stream",
          "text": [
            "Sum: 4\n"
          ]
        }
      ],
      "source": [
        "# option-1\n",
        "\n",
        "def add_numbers(a, b):\n",
        "    \"\"\"Returns the sum of two numbers.\"\"\"\n",
        "    return a + b\n",
        "\n",
        "abc = add_input(add_numbers)\n",
        "# print(abc)\n",
        "print(\"Sum:\", abc())  # The function call will trigger user input and display the sum"
      ]
    },
    {
      "cell_type": "markdown",
      "metadata": {
        "id": "7pBvtyXruJyx"
      },
      "source": [
        "### Using Decorator Syntax (@add_input)"
      ]
    },
    {
      "cell_type": "code",
      "execution_count": 9,
      "metadata": {
        "colab": {
          "base_uri": "https://localhost:8080/"
        },
        "id": "cY5y5nCxjOEP",
        "outputId": "2e96c393-1766-443b-97af-0647a5ef2915"
      },
      "outputs": [
        {
          "name": "stdout",
          "output_type": "stream",
          "text": [
            "<function add_input.<locals>.wrapper at 0x000001D555D805E0>\n",
            "4\n"
          ]
        }
      ],
      "source": [
        "# Use the @add_input decorator to modify the add_numbers function\n",
        "# The @add_input means that add_numbers in the arguments of add_input e.g. add_input(add_numbers)\n",
        "@add_input\n",
        "def add_numbers(a, b):\n",
        "    \"\"\"Returns the sum of two numbers.\"\"\"\n",
        "    return a + b\n",
        "\n",
        "print(add_numbers) #<function add_input.<locals>.wrapper at 0x7b328da3d440>\n",
        "# Call the decorated function, which will now prompt the user for input\n",
        "print(\"Sum:\", add_numbers())  # The function call will trigger user input and display the sum"
      ]
    },
    {
      "cell_type": "code",
      "execution_count": 12,
      "metadata": {
        "colab": {
          "base_uri": "https://localhost:8080/"
        },
        "id": "1JbZZK1-Vx5w",
        "outputId": "4dcdecf4-f2a4-4eea-fe3c-ca2d5382d9bd"
      },
      "outputs": [
        {
          "name": "stdout",
          "output_type": "stream",
          "text": [
            "Sum: 4\n"
          ]
        }
      ],
      "source": [
        "# Using Decorator Syntax (@add_input)\n",
        "def add_input(func):\n",
        "    def wrapper():\n",
        "        a = int(input(\"Enter the first number: \"))\n",
        "        b = int(input(\"Enter the second number: \"))\n",
        "        return func(a, b)\n",
        "    return wrapper\n",
        "\n",
        "@add_input\n",
        "def add_numbers(a, b):\n",
        "    \"\"\"Returns the sum of two numbers.\"\"\"\n",
        "    return a + b\n",
        "\n",
        "# print(add_numbers)\n",
        "print(\"Sum:\",add_numbers())\n"
      ]
    },
    {
      "cell_type": "markdown",
      "metadata": {
        "id": "jkvIavDDuVZv"
      },
      "source": [
        "## Decorator Example #2"
      ]
    },
    {
      "cell_type": "code",
      "execution_count": 29,
      "metadata": {
        "colab": {
          "base_uri": "https://localhost:8080/"
        },
        "id": "aamePG6EW0fr",
        "outputId": "24ef12d4-4c43-422f-e9e0-7be7363a80b8"
      },
      "outputs": [
        {
          "name": "stdout",
          "output_type": "stream",
          "text": [
            "<function new_decorator.<locals>.wrap_func at 0x7b327cea45e0>\n",
            "before\n",
            "need of a Decorator\n",
            "after\n"
          ]
        }
      ],
      "source": [
        "def new_decorator(func):\n",
        "    def wrap_func():\n",
        "        print(\"before\")\n",
        "        func()\n",
        "        print(\"after\")\n",
        "    return wrap_func\n",
        "\n",
        "##@new_decorator\n",
        "def func_needs_decorator():\n",
        "    print(\"need of a Decorator\")\n",
        "func_needs_decorator = new_decorator(func_needs_decorator)    # without @ syntax\n",
        "print(func_needs_decorator)\n",
        "func_needs_decorator()"
      ]
    },
    {
      "cell_type": "markdown",
      "metadata": {
        "id": "BhQ3axcQfqay"
      },
      "source": [
        "**Great! You've now built a Decorator manually and then saw how we can use the @ symbol in Python to automate this and clean our code. You'll run into Decorators a lot if you begin using Python for APIs such as FastAPI or Web Development frameworks like Flask or Django! Decorators are also extensively used in agentic AI frameworks like CrewAI and LangGraph for building complex AI agent workflows and pipelines!**"
      ]
    }
  ],
  "metadata": {
    "colab": {
      "collapsed_sections": [
        "0WdTQe2UXDik"
      ],
      "provenance": []
    },
    "kernelspec": {
      "display_name": "aiclass",
      "language": "python",
      "name": "python3"
    },
    "language_info": {
      "codemirror_mode": {
        "name": "ipython",
        "version": 3
      },
      "file_extension": ".py",
      "mimetype": "text/x-python",
      "name": "python",
      "nbconvert_exporter": "python",
      "pygments_lexer": "ipython3",
      "version": "3.12.0"
    }
  },
  "nbformat": 4,
  "nbformat_minor": 0
}
