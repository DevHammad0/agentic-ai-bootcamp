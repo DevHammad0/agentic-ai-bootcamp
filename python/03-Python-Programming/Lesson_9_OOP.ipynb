{
  "cells": [
    {
      "cell_type": "markdown",
      "id": "OOTO07COU_e4",
      "metadata": {
        "id": "OOTO07COU_e4"
      },
      "source": [
        "## **1. Exploring the Internal Structure of a Python Program: A Deep Dive into Objects and Classes**"
      ]
    },
    {
      "cell_type": "markdown",
      "id": "05e7cad5",
      "metadata": {
        "id": "05e7cad5"
      },
      "source": [
        "\n",
        "\n",
        "In Python, **everything is an object**—including integers, strings, lists, and even functions. Objects are created using **classes**, which act like blueprints specifying the data (variables) and behavior (methods) that objects have.\n",
        "\n",
        "Everything is an object in Python: Even primitive types like int, str, or float are represented as objects (instances of their respective classes).\n",
        "\n",
        "\n",
        "---\n",
        "\n",
        "## 1.1 Variables and Objects\n",
        "\n",
        "- When you do something like `x = 10`, Python creates an integer object `10` and then **binds** the variable name `x` to that object.\n",
        "\n",
        "\n",
        "## 1.2 Advanced Ideas\n",
        "\n",
        "- **`type` is a Class**: Even `int`, `str`, and your custom classes are instances of the built-in `type`.\n",
        "- **Metaclasses**: “Classes for classes” that let you modify how classes themselves are created (rarely needed for beginners).\n",
        "\n",
        "---\n",
        "\n",
        "- Objects (e.g., 10, \"hello\") → Instances of classes (int, str)  \n",
        "- Classes (e.g., int, str) → Instances of the `type` metaclass  \n",
        "- Metaclass (`type`) → Instance of itself (self-referential)\n",
        "\n"
      ]
    },
    {
      "cell_type": "code",
      "execution_count": null,
      "id": "De_5QM--mcFS",
      "metadata": {
        "colab": {
          "base_uri": "https://localhost:8080/"
        },
        "id": "De_5QM--mcFS",
        "outputId": "cbbecad9-31f4-41d7-9d74-6da816bb1745"
      },
      "outputs": [
        {
          "name": "stdout",
          "output_type": "stream",
          "text": [
            "<class 'int'>\n",
            "<class 'type'>\n",
            "<class 'type'>\n"
          ]
        }
      ],
      "source": [
        "# Everything in Python is an object\n",
        "\n",
        "x : int = 10\n",
        "\n",
        "print(type(x)) #output: <class 'int'>\n",
        "# Explanation:\n",
        "# - `x` is an instance (object) of the `int` class.\n",
        "# - The output `<class 'int'>` shows the type/class of `x`.\n",
        "\n",
        "\n",
        "print(type(int)) #output: <class 'type'>\n",
        "# Explanation:\n",
        "# - The `int` class itself is an instance of the `type` metaclass.\n",
        "# - The output `<class 'type'>` shows that classes in Python are objects created by the `type` metaclass\n",
        "\n",
        "print(type(type))\n",
        "# Explanation:\n",
        "# - The `type` metaclass is its own instance (self-referential).\n",
        "# - The `type` metaclass is itself an object, and its type is `type` (it is its own metaclass).\n",
        "# - This makes `type` the foundation of Python's type system—it creates and defines all classes (including itself).\n",
        "# - The output `<class 'type'>` confirms the self-referential nature of the `type` metaclass."
      ]
    },
    {
      "cell_type": "code",
      "execution_count": null,
      "id": "aVNIa0Is79Hc",
      "metadata": {
        "colab": {
          "base_uri": "https://localhost:8080/"
        },
        "id": "aVNIa0Is79Hc",
        "outputId": "1c207a9d-8853-4c78-94c4-e575712586b2"
      },
      "outputs": [
        {
          "data": {
            "text/plain": [
              "int"
            ]
          },
          "execution_count": 2,
          "metadata": {},
          "output_type": "execute_result"
        }
      ],
      "source": [
        "x.__class__"
      ]
    },
    {
      "cell_type": "markdown",
      "id": "46849ee0",
      "metadata": {
        "id": "46849ee0"
      },
      "source": [
        "## 1.3 Functions as Objects\n",
        "\n",
        "- Functions are treated like any other object (integers, strings, etc.)\n",
        "\n",
        "- The output <class 'function'> shows functions are instances of the function class\n",
        "\n",
        "### Example\n"
      ]
    },
    {
      "cell_type": "code",
      "execution_count": null,
      "id": "6ef53b39",
      "metadata": {
        "colab": {
          "base_uri": "https://localhost:8080/"
        },
        "id": "6ef53b39",
        "outputId": "2bae2814-6ac9-4cda-b605-3f71dbe2d201"
      },
      "outputs": [
        {
          "name": "stdout",
          "output_type": "stream",
          "text": [
            "<class 'function'>\n",
            "<class 'type'>\n",
            "Hello, Basit!\n"
          ]
        }
      ],
      "source": [
        "# Functions are first-class objects in Python. They can be:\n",
        "# - Assigned to variables\n",
        "# - Passed as arguments\n",
        "# - Stored in data structures\n",
        "\n",
        "# 1. Define a function\n",
        "def greet(name):\n",
        "    return f\"Hello, {name}!\"\n",
        "\n",
        "# 2. Assign the function object to a variable (not calling it - no parentheses)\n",
        "say_hello = greet\n",
        "\n",
        "# 3. Verify the type (shows it's a function object)\n",
        "print(type(greet))  # Output: <class 'function'>\n",
        "print(type(greet.__class__))  # Output:<class 'type'>\n",
        "\n",
        "# 4. Use the variable to call the function\n",
        "result = say_hello(\"Basit\")\n",
        "print(result)  # Output: \"Hello, Basit!\"\n",
        "\n"
      ]
    },
    {
      "cell_type": "markdown",
      "id": "b44f7b87",
      "metadata": {
        "id": "b44f7b87"
      },
      "source": [
        "### 1.4.1 `__init__` Method and `self`\n",
        "- `__init__`: Constructor method that initializes new instances.\n",
        "- `__init__` is a special method (often called the constructor) that **automatically runs** whenever you create an instance or object of a class.\n",
        "- `self`: Reference to the current instance (conventionally named self).\n",
        "- The `self` parameter in Python methods refers to **the instance** on which the method is called.  \n",
        "- By convention, we always name this parameter `self`, but technically you could name it anything.\n",
        "\n",
        "**Example**:\n"
      ]
    },
    {
      "cell_type": "markdown",
      "id": "BqMagOuzUz04",
      "metadata": {
        "id": "BqMagOuzUz04"
      },
      "source": [
        "# **2. Introduction to Procedural Programming vs. Object-Oriented Programming (OOP)**\n"
      ]
    },
    {
      "cell_type": "markdown",
      "id": "lUjfCwvWfLxZ",
      "metadata": {
        "id": "lUjfCwvWfLxZ"
      },
      "source": [
        "- **Procedural Programming**: Focuses on sequential steps and functions.\n",
        "\n",
        "- **Procedural Programming**: Focuses on writing code in a **top-down**, **step-by-step** manner. As code grows, functions can multiply, and data might be scattered, leading to “spaghetti code.”\n",
        "- **Object-Oriented Programming (OOP)**: Organizes code into objects with data and behavior.\n",
        "- **Object-Oriented Programming (OOP)**: Groups data and behaviors into **classes** and **objects**, supporting better organization, maintainability, and scalability.\n",
        "\n",
        "---\n",
        "\n",
        "## 2.1 Procedural Programming\n",
        "\n",
        "### Definition\n",
        "A style where code is primarily a set of procedures (functions) operating on data. Functions and data are often kept separate.\n",
        "\n",
        "**Key Points**:\n",
        "- Functions and data are separate (e.g., global variables and standalone functions).  \n",
        "- Straightforward for smaller scripts, but can become unwieldy as the project grows.\n",
        "- Code often runs in a simple, top-down flow.  \n",
        "- Can lead to *spaghetti code* if too many functions and global data are mixed.\n",
        "\n",
        "**Analogy**: Think of a small kitchen where all ingredients (data) are shared on open shelves and cooks (functions) can modify them freely. This is easy when there’s little going on, but chaos arises as the restaurant grows—too many cooks, too many shelves, and no clear structure."
      ]
    },
    {
      "cell_type": "markdown",
      "id": "9b8e2f5a",
      "metadata": {
        "id": "9b8e2f5a"
      },
      "source": [
        "## 2.2 Object-Oriented Programming (OOP)\n",
        "\n",
        "### Definition\n",
        "Organizes data and behaviors into **classes** (blueprints) from which objects are created.\n",
        "\n",
        "**Key Points**:\n",
        "- **Classes and Objects**: A class defines attributes and methods, and objects are instances of that class.  \n",
        "- **Encapsulation**: Data (attributes) and behaviors (methods) live together, protecting data from unwanted changes.  \n",
        "- **Reusability**: Inheritance allows new classes to build on existing ones, reducing duplication.\n",
        "\n",
        "\n",
        "**Analogy**: Imagine a well-structured bakery where each station (class/object) has its own tools and methods. You can add a new station or update an existing one without disrupting the entire bakery."
      ]
    },
    {
      "cell_type": "markdown",
      "id": "496d521d",
      "metadata": {
        "id": "496d521d"
      },
      "source": [
        "\n",
        "## 5.1 What is OOP?\n",
        "\n",
        "**OOP** stands for Object-Oriented Programming. It's a programming paradigm that organizes software design around objects rather than actions and data rather than logic . In OOP, objects are instances of classes, which define their properties (attributes or fields) and behaviors (methods or functions). This approach promotes modularity, reusability, and easier maintenance of code.\n",
        "\n",
        "----\n",
        "\n",
        "Imagine you want to create a virtual world where you can make cars, animals, and people—all sorts of things! You don’t want to create everything from scratch every time; instead, you want to create a **plan** for each type of thing so you can make as many as you want quickly and easily. That's where **Object-Oriented Programming (OOP)** comes in.\n",
        "\n",
        "----\n",
        "In OOP:\n",
        "- A **class** is a blueprint,\n",
        "- An **object** is an instance of that class,\n",
        "- **Methods** are functions belonging to that class,\n",
        "- **Attributes** are data stored in the object.\n",
        "\n",
        "Popular OOP languages include Python, Java, and C++.\n",
        "\n",
        "**Why OOP?**\n",
        "- **Reuse**: Write once, create many instances.\n",
        "- **Organization**: Group related data and functions together.\n",
        "- **Modeling Real Life**: Classes can mirror real-world entities.\n",
        "\n",
        "---\n",
        "\n",
        "## 5.2 Basic Example\n",
        "\n"
      ]
    },
    {
      "cell_type": "code",
      "execution_count": null,
      "id": "969076cf",
      "metadata": {
        "id": "969076cf"
      },
      "outputs": [],
      "source": [
        "class Car:\n",
        "    def __init__(self, color, brand):\n",
        "        self.color = color\n",
        "        self.brand = brand\n",
        "\n",
        "    def drive(self):\n",
        "        print(f\"The {self.color} {self.brand} is driving!\")\n",
        "\n",
        "my_car = Car(\"red\", \"Toyota\")\n",
        "your_car = Car(\"blue\", \"Honda\")\n",
        "\n",
        "my_car.drive()   # The red Toyota is driving!\n",
        "your_car.drive() # The blue Honda is driving!\n"
      ]
    },
    {
      "cell_type": "markdown",
      "id": "c133e790",
      "metadata": {
        "id": "c133e790"
      },
      "source": [
        "\n",
        "---\n",
        "\n",
        "## 5.3 Four Pillars of OOP\n",
        "\n",
        "1. **Encapsulation**  \n",
        "2. **Inheritance**  \n",
        "3. **Polymorphism**  \n",
        "4. **Abstraction**\n",
        "\n",
        "---\n",
        "\n",
        "### 5.3.1 Encapsulation\n",
        "\n",
        "Bundling data and methods, controlling access.\n",
        "\n",
        "**Encapsulation** in Python involves bundling an object's data (variables) and methods (functions) into a single unit—the class. This ensures that the object’s internal state remains protected and can only be accessed or modified through predefined interfaces, such as public methods.\n",
        "\n",
        "A helpful **analogy** is to imagine a toy inside a protective box. You interact with the toy using specific buttons on the box’s exterior (like calling methods), but you cannot directly access or alter its internal mechanisms (private data). Encapsulation enforces this controlled interaction, promoting security and modularity in code.\n",
        "\n",
        "#### Example: Private Attributes\n",
        "Although Python doesn’t enforce privacy in the same way as some languages, using double underscores (`__`) is a **convention** for private attributes:\n",
        "\n"
      ]
    },
    {
      "cell_type": "code",
      "execution_count": 33,
      "id": "4f35f8ed",
      "metadata": {
        "colab": {
          "base_uri": "https://localhost:8080/"
        },
        "id": "4f35f8ed",
        "outputId": "2f1410b3-0aa8-46bd-ebc9-2e34237ec12a"
      },
      "outputs": [
        {
          "name": "stdout",
          "output_type": "stream",
          "text": [
            "Teddy Bear says Growl\n"
          ]
        }
      ],
      "source": [
        "class Toy:\n",
        "    def __init__(self, name, sound):\n",
        "        self.name = name      # Public attribute\n",
        "        self.__sound = sound  # Private attribute (using __)\n",
        "\n",
        "    def make_sound(self):\n",
        "        print(f\"{self.name} says {self.__sound}\")\n",
        "\n",
        "    # def __repr__(self) -> str:\n",
        "    #     return f\"Toy(name='{self.name}', sound='{self.__sound}')\"\n",
        "\n",
        "my_toy = Toy(\"Teddy Bear\", \"Growl\")\n",
        "\n",
        "my_toy.make_sound()  # Output: Teddy Bear says Growl\n",
        "\n",
        "# my_toy.make_sound()  # Output: Teddy Bear says Growl\n"
      ]
    },
    {
      "cell_type": "code",
      "execution_count": null,
      "id": "hHHRKZMTwc1A",
      "metadata": {
        "id": "hHHRKZMTwc1A"
      },
      "outputs": [],
      "source": [
        "# print(my_toy)\n",
        "# my_toy.__sound = \"Loud\"  # This will not change __sound\n",
        "# print(my_toy)"
      ]
    },
    {
      "cell_type": "code",
      "execution_count": 37,
      "id": "fuv49jOcwfh2",
      "metadata": {
        "colab": {
          "base_uri": "https://localhost:8080/"
        },
        "id": "fuv49jOcwfh2",
        "outputId": "74a9d7dc-23a7-459d-b692-41f880843224"
      },
      "outputs": [
        {
          "name": "stdout",
          "output_type": "stream",
          "text": [
            "Teddy Bear\n",
            "Loud\n",
            "Teddy Bear says Growl\n",
            "None\n"
          ]
        }
      ],
      "source": [
        "# print(my_toy.name)\n",
        "# my_toy.__sound = \"Loud\"  # This will not change __sound\n",
        "# print(my_toy.__sound)\n",
        "\n",
        "# print(my_toy.make_sound())"
      ]
    },
    {
      "cell_type": "markdown",
      "id": "m0FSIanSwto6",
      "metadata": {
        "id": "m0FSIanSwto6"
      },
      "source": [
        "\n",
        "- Here, `__sound` is **private**, meaning no one outside can change it.\n",
        "- You can only interact with it through the method `make_sound()`.\n",
        "\n",
        "### **More Encapsulation Example**\n",
        "\n",
        "Consider a **Bank Account** class where we want to keep the balance private:"
      ]
    },
    {
      "cell_type": "code",
      "execution_count": 43,
      "id": "ttG1PuOrwvY1",
      "metadata": {
        "colab": {
          "base_uri": "https://localhost:8080/"
        },
        "id": "ttG1PuOrwvY1",
        "outputId": "fb406de4-a763-4ab9-beca-8685e37f9bb4"
      },
      "outputs": [
        {
          "name": "stdout",
          "output_type": "stream",
          "text": [
            "John Doe\n",
            "1000\n",
            "Deposited 500. New balance is 1500\n",
            "1500\n"
          ]
        }
      ],
      "source": [
        "class BankAccount:\n",
        "    def __init__(self, account_holder, balance):\n",
        "        self.account_holder = account_holder\n",
        "        self.__balance = balance  # Private attribute\n",
        "\n",
        "    def deposit(self, amount):\n",
        "        if amount > 0:\n",
        "            self.__balance += amount\n",
        "            print(f\"Deposited {amount}. New balance is {self.__balance}\")\n",
        "        else:\n",
        "            print(\"Deposit amount must be positive.\")\n",
        "\n",
        "    def get_balance(self):\n",
        "        return self.__balance\n",
        "\n",
        "# Creating an account\n",
        "my_account = BankAccount(\"John Doe\", 1000)\n",
        "\n",
        "print(my_account.account_holder)\n",
        "print(my_account.get_balance())\n",
        "my_account.deposit(500)\n",
        "\n",
        "print(my_account.get_balance())"
      ]
    },
    {
      "cell_type": "markdown",
      "id": "G1A-5lAvw0Sc",
      "metadata": {
        "id": "G1A-5lAvw0Sc"
      },
      "source": [
        "- The **balance** is kept private to ensure no one can change it directly without using the proper method."
      ]
    },
    {
      "cell_type": "markdown",
      "id": "d7184201",
      "metadata": {
        "id": "d7184201"
      },
      "source": [
        "### 5.3.2 **Pillar 2: Inheritance**\n",
        "\n",
        "Deriving new classes from existing ones.\n",
        "\n",
        "**Inheritance** means that one class can borrow properties and behaviors from another. If you have a `Vehicle` class, a `Car` can inherit from it, meaning you don’t need to write all the car features from scratch—you just extend the existing class.\n",
        "\n",
        "Think of it as **getting some features from your parents**.\n",
        "\n",
        "- `__init__` is the constructor method responsible for initializing the object's state.\n",
        "- `super()` is a function used to call methods (including constructors) from the parent class within the subclass.\n"
      ]
    },
    {
      "cell_type": "code",
      "execution_count": 44,
      "id": "4c018db6",
      "metadata": {
        "colab": {
          "base_uri": "https://localhost:8080/"
        },
        "id": "4c018db6",
        "outputId": "629d81ea-dae7-4666-ae31-64620ead3679"
      },
      "outputs": [
        {
          "name": "stdout",
          "output_type": "stream",
          "text": [
            "Beep beep!\n"
          ]
        }
      ],
      "source": [
        "class Vehicle:\n",
        "    def __init__(self, brand):\n",
        "        self.brand = brand\n",
        "\n",
        "    def honk(self):\n",
        "        print(\"Beep beep!\")\n",
        "\n",
        "vehicle_obj = Vehicle(\"Generic Vehicle\")\n",
        "\n",
        "\n",
        "class ElectricCar(Vehicle):  # Car inherits from Vehicle\n",
        "    def __init__(self, brand, color):\n",
        "        super().__init__(brand) # super\n",
        "        self.color = color\n",
        "\n",
        "my_car = ElectricCar(\"Tesla\", \"red\")\n",
        "my_car.honk()\n",
        "\n",
        "\n"
      ]
    },
    {
      "cell_type": "markdown",
      "id": "rqUSo7rgxNBq",
      "metadata": {
        "id": "rqUSo7rgxNBq"
      },
      "source": [
        "1. **`__init__` (Constructor Method)**:\n",
        "   - `__init__` is a special method in Python classes that is automatically called when a new instance (object) of the class is created.\n",
        "   - Its primary purpose is to initialize the object's state by setting initial values for its attributes.\n",
        "   - This method is where you typically perform initialization tasks such as assigning values to instance variables based on arguments passed to the constructor.\n",
        "\n",
        "2. **`super()` (Super() function)**:\n",
        "   - `super()` is a built-in function in Python used to call methods and constructors from a parent class (superclass) within a subclass (derived class).\n",
        "   - It allows you to explicitly call methods and constructors of the parent class to reuse code or extend functionality without duplicating it in the subclass.\n",
        "   - It is often used inside the `__init__` method of a subclass to invoke the constructor of the parent class and initialize inherited attributes."
      ]
    },
    {
      "cell_type": "markdown",
      "id": "i65KTZORxQ7u",
      "metadata": {
        "id": "i65KTZORxQ7u"
      },
      "source": [
        "### **More Inheritance Example**\n",
        "\n",
        "Let's say we have a `Person` class, and we want to create a `Student` class that inherits from `Person`:\n"
      ]
    },
    {
      "cell_type": "code",
      "execution_count": 48,
      "id": "UunLQqhmxStQ",
      "metadata": {
        "colab": {
          "base_uri": "https://localhost:8080/"
        },
        "id": "UunLQqhmxStQ",
        "outputId": "c8d8dd12-12fe-40bf-cee6-bddca78e2e9c"
      },
      "outputs": [
        {
          "name": "stdout",
          "output_type": "stream",
          "text": [
            "Hello, my name is Alice and I am 20 years old.\n",
            "Alice is studying.\n",
            "Hello, my name is Bob and I am 30 years old.\n",
            "Bob is working.\n"
          ]
        }
      ],
      "source": [
        "class Person:\n",
        "    def __init__(self, name, age):\n",
        "        self.name = name\n",
        "        self.age = age\n",
        "\n",
        "    def introduce(self):\n",
        "        print(f\"Hello, my name is {self.name} and I am {self.age} years old.\")\n",
        "\n",
        "class Student(Person):\n",
        "    def __init__(self, name, age, student_id):\n",
        "        super().__init__(name, age)\n",
        "        self.student_id = student_id\n",
        "\n",
        "    def study(self):\n",
        "        print(f\"{self.name} is studying.\")\n",
        "\n",
        "\n",
        "class Employee(Person):\n",
        "    def __init__(self, name, age, employee_id):\n",
        "        super().__init__(name, age)\n",
        "        self.employee_id = employee_id\n",
        "\n",
        "    def work(self):\n",
        "        print(f\"{self.name} is working.\")\n",
        "\n",
        "student = Student(\"Alice\", 20, \"S12345\")\n",
        "student.introduce()\n",
        "student.study()\n",
        "\n",
        "\n",
        "employee = Employee(\"Bob\", 30, \"E67890\")\n",
        "employee.introduce()\n",
        "employee.work()\n"
      ]
    },
    {
      "cell_type": "markdown",
      "id": "QA4NIZgSxtF6",
      "metadata": {
        "id": "QA4NIZgSxtF6"
      },
      "source": [
        "- The `Student` class **inherits** from `Person`, meaning it can introduce itself and also has additional behavior, like studying."
      ]
    },
    {
      "cell_type": "markdown",
      "id": "26b6a1df",
      "metadata": {
        "id": "26b6a1df"
      },
      "source": [
        "### 5.3.3 Pillar 3: Polymorphism\n",
        "\n",
        "Same interface for different underlying forms.\n",
        "\n",
        "**Polymorphism** means **many forms**. It lets you use the same word to mean different things in different contexts. For example, the `make_sound()` function might make a dog bark and a cat meow.\n",
        "\n",
        "Think of it as **different toys that all make sounds, but different sounds**.\n",
        "\n",
        "Example:\n",
        "\n",
        "- The same function name, `make_sound()`, works differently for each animal.\n",
        "\n"
      ]
    },
    {
      "cell_type": "code",
      "execution_count": 49,
      "id": "53a567aa",
      "metadata": {
        "colab": {
          "base_uri": "https://localhost:8080/"
        },
        "id": "53a567aa",
        "outputId": "134911d6-649c-4f6a-8127-84dfb6371437"
      },
      "outputs": [
        {
          "name": "stdout",
          "output_type": "stream",
          "text": [
            "Woof!\n",
            "Meow!\n"
          ]
        }
      ],
      "source": [
        "\n",
        "class Animal:\n",
        "    def make_sound(self):\n",
        "        print(\"Animal Sounds!\")\n",
        "\n",
        "class Dog(Animal):\n",
        "    def make_sound(self):\n",
        "        print(\"Woof!\")\n",
        "\n",
        "class Cat(Animal):\n",
        "    def make_sound(self):\n",
        "        print(\"Meow!\")\n",
        "\n",
        "dog = Dog()\n",
        "cat = Cat()\n",
        "\n",
        "# animals = [dog, cat]\n",
        "\n",
        "# for animal in animals:\n",
        "#     animal.make_sound()\n",
        "\n",
        "\n",
        "dog.make_sound()\n",
        "cat.make_sound()\n"
      ]
    },
    {
      "cell_type": "markdown",
      "id": "UXLHhT_PyCkr",
      "metadata": {
        "id": "UXLHhT_PyCkr"
      },
      "source": [
        "### **More Polymorphism Example**\n",
        "\n",
        "Let's say we have different shapes, and each shape can calculate its area in a different way:\n"
      ]
    },
    {
      "cell_type": "code",
      "execution_count": null,
      "id": "M2VrAh6EyGBY",
      "metadata": {
        "id": "M2VrAh6EyGBY"
      },
      "outputs": [],
      "source": [
        "class Shape:\n",
        "    def area(self):\n",
        "        pass\n",
        "\n",
        "class Rectangle(Shape):\n",
        "    def __init__(self, width, height):\n",
        "        self.width = width\n",
        "        self.height = height\n",
        "\n",
        "    def area(self):\n",
        "        return self.width * self.height\n",
        "\n",
        "class Circle(Shape):\n",
        "    def __init__(self, radius):\n",
        "        self.radius = radius\n",
        "\n",
        "    def area(self):\n",
        "        return 3.14 * self.radius * self.radius\n",
        "\n",
        "shapes = [Rectangle(4, 5), Circle(3)]\n",
        "for shape in shapes:\n",
        "    print(shape.area())\n"
      ]
    },
    {
      "cell_type": "markdown",
      "id": "eZ6rmeYsyJ-n",
      "metadata": {
        "id": "eZ6rmeYsyJ-n"
      },
      "source": [
        "- The `area()` method is **polymorphic**, meaning it works differently for each shape.\n"
      ]
    },
    {
      "cell_type": "markdown",
      "id": "034c0ae0",
      "metadata": {
        "id": "034c0ae0"
      },
      "source": [
        "### 5.3.4 **Pillar 4: Abstraction**\n",
        "\n",
        "Hiding complex implementation details.\n",
        "\n",
        "**Abstraction** means **hiding the complicated stuff** and only showing what is necessary. It makes using objects easier by not showing all the details of how they work.\n",
        "\n",
        "Think of it as **a TV remote**. You press buttons to change channels, but you don’t need to know the technology inside.\n",
        "\n",
        "- The `Shape` class hides the details of how different shapes calculate area. You just need to use `area()`.\n",
        "\n",
        "Abstraction means **hiding complex details** and exposing only necessary parts. Python supports abstraction using **abstract base classes (ABC)** and the `@abstractmethod` decorator.\n",
        "\n"
      ]
    },
    {
      "cell_type": "code",
      "execution_count": 50,
      "id": "66472652",
      "metadata": {
        "colab": {
          "base_uri": "https://localhost:8080/"
        },
        "id": "66472652",
        "outputId": "c0ff21dd-e597-412d-f033-ca094b594714"
      },
      "outputs": [
        {
          "name": "stdout",
          "output_type": "stream",
          "text": [
            "Area of circle: 78.5\n",
            "Area of rectangle: 12\n"
          ]
        }
      ],
      "source": [
        "from abc import ABC, abstractmethod\n",
        "\n",
        "class Shape(ABC):  # ABC stands for Abstract Base Class\n",
        "    @abstractmethod\n",
        "    def calculate_area(self):\n",
        "        pass\n",
        "\n",
        "# Shape is an abstract base class (ABC) that defines a method calculate_area() using the @abstractmethod\n",
        "# decorator from the abc module.\n",
        "# An abstract method is a method that is declared but contains no implementation.\n",
        "# It must be overridden in any subclass that inherits from Shape.\n",
        "\n",
        "import math\n",
        "\n",
        "class Circle(Shape):\n",
        "    def __init__(self, radius):\n",
        "        self.radius = radius\n",
        "\n",
        "    def calculate_area(self):\n",
        "        return 3.14 * self.radius ** 2\n",
        "\n",
        "class Rectangle(Shape):\n",
        "    def __init__(self, width, height):\n",
        "        self.width = width\n",
        "        self.height = height\n",
        "\n",
        "    def calculate_area(self):\n",
        "        return self.width * self.height\n",
        "\n",
        "# Usage example\n",
        "circle = Circle(5)\n",
        "rectangle = Rectangle(3, 4)\n",
        "\n",
        "print(\"Area of circle:\", circle.calculate_area())\n",
        "print(\"Area of rectangle:\", rectangle.calculate_area())\n"
      ]
    },
    {
      "cell_type": "markdown",
      "id": "MmGolP6HylG4",
      "metadata": {
        "id": "MmGolP6HylG4"
      },
      "source": [
        "\n",
        "### **More Abstraction Example**\n",
        "\n",
        "Imagine we want to create different types of payment methods, but we don't want users to worry about the details:\n",
        "\n",
        "In this example, we have an abstract base class `Payment` that defines a common interface for different payment methods. Each payment method subclass (`CreditCardPayment` and `PayPalPayment`) implements the `pay()` method according to its specific logic.\n",
        "\n"
      ]
    },
    {
      "cell_type": "code",
      "execution_count": null,
      "id": "j3FlAygzynfe",
      "metadata": {
        "id": "j3FlAygzynfe"
      },
      "outputs": [],
      "source": [
        "from abc import ABC, abstractmethod\n",
        "\n",
        "class Payment(ABC):\n",
        "    @abstractmethod\n",
        "    def pay(self, amount):\n",
        "        pass\n",
        "\n",
        "class CreditCardPayment(Payment):\n",
        "    def pay(self, amount):\n",
        "        print(f\"Paid {amount} using Credit Card.\")\n",
        "\n",
        "class PayPalPayment(Payment):\n",
        "    def pay(self, amount):\n",
        "        print(f\"Paid {amount} using PayPal.\")\n",
        "\n",
        "payment_methods = [CreditCardPayment(), PayPalPayment()]\n",
        "for method in payment_methods:\n",
        "    method.pay(100)"
      ]
    },
    {
      "cell_type": "markdown",
      "id": "jbcrmcQAyt8-",
      "metadata": {
        "id": "jbcrmcQAyt8-"
      },
      "source": [
        "- Here, `Payment` is abstract, and users only interact with the `pay()` method without needing to know how each payment method works.\n"
      ]
    },
    {
      "cell_type": "markdown",
      "id": "wxUdmNbZyz7o",
      "metadata": {
        "id": "wxUdmNbZyz7o"
      },
      "source": [
        "#### Benefits of Abstraction in This Example\n",
        "\n",
        "- **Flexibility and Extensibility**: Adding new payment methods (e.g., `BitcoinPayment`, `ApplePayPayment`) would involve creating new subclasses of `Payment` and implementing `pay()`, without modifying existing code.\n",
        "- **Code Reusability**: The `Payment` abstraction allows us to reuse the `pay()` method across different payment methods while maintaining a consistent interface.\n",
        "- **Encapsulation**: Details of how payments are processed (`CreditCardPayment` or `PayPalPayment`) are encapsulated within their respective classes, abstracting away complexity from the client code."
      ]
    },
    {
      "cell_type": "markdown",
      "id": "OyBI1nMizCDZ",
      "metadata": {
        "id": "OyBI1nMizCDZ"
      },
      "source": [
        "\n",
        "## **Recap**\n",
        "\n",
        "- **Class**: A blueprint to create objects.\n",
        "- **Object**: A real thing made from a class.\n",
        "- **Encapsulation**: Keeping all the data and functions inside one box.\n",
        "- **Inheritance**: Getting features from a parent class.\n",
        "- **Polymorphism**: Using the same function in different ways for different objects.\n",
        "- **Abstraction**: Hiding complex details and showing only the essentials.\n",
        "\n",
        "OOP helps us create **organized, reusable**, and **easy-to-understand**, **scalable** programs by thinking of our code like real-world objects. 🎉\n",
        "\n",
        "By adding more examples and exploring each concept deeply, you can build a strong foundation in OOP, making you a more **professional** and **confident** programmer!\n",
        "\n"
      ]
    },
    {
      "cell_type": "markdown",
      "id": "ANFASzEH_nkb",
      "metadata": {
        "id": "ANFASzEH_nkb"
      },
      "source": [
        "## Best Practices and Conclusion\n",
        "\n",
        "- Use OOP to model complex systems with clear structure.\n",
        "\n",
        "- Prefer composition over inheritance where possible.\n",
        "\n",
        "- Use magic methods to make classes Pythonic.\n",
        "\n",
        "- Keep classes focused on a single responsibility.\n",
        "\n",
        "OOP in Python enables you to write modular, reusable, and maintainable code by organizing data and behavior into objects. 🚀"
      ]
    }
  ],
  "metadata": {
    "colab": {
      "provenance": []
    },
    "kernelspec": {
      "display_name": "aiclass",
      "language": "python",
      "name": "python3"
    },
    "language_info": {
      "name": "python",
      "version": "3.12.0"
    }
  },
  "nbformat": 4,
  "nbformat_minor": 5
}
