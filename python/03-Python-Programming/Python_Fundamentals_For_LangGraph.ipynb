{
  "nbformat": 4,
  "nbformat_minor": 0,
  "metadata": {
    "colab": {
      "provenance": []
    },
    "kernelspec": {
      "name": "python3",
      "display_name": "Python 3"
    },
    "language_info": {
      "name": "python"
    }
  },
  "cells": [
    {
      "cell_type": "markdown",
      "source": [
        "# **Python Fundamentals for Agentic AI Bootcamp**\n",
        "\n"
      ],
      "metadata": {
        "id": "AxpNhkvgKVV9"
      }
    },
    {
      "cell_type": "code",
      "source": [
        "print(\"Hello World!\")"
      ],
      "metadata": {
        "colab": {
          "base_uri": "https://localhost:8080/"
        },
        "id": "iizLLeFXhhh8",
        "outputId": "f29df7ec-b59b-434e-f729-ad79ed25f20e"
      },
      "execution_count": null,
      "outputs": [
        {
          "output_type": "stream",
          "name": "stdout",
          "text": [
            "Hello World!\n"
          ]
        }
      ]
    },
    {
      "cell_type": "markdown",
      "source": [
        "## Variables and Data Types\n",
        "\n",
        "Variables store values, and Python supports multiple data types such as integers, floats, strings, and booleans."
      ],
      "metadata": {
        "id": "6n7S3ThLhgkr"
      }
    },
    {
      "cell_type": "code",
      "source": [
        "num = 10  # Integer\n",
        "decimal = 10.5  # Float\n",
        "text = \"Hello, LangGraph!\"  # String\n",
        "is_valid = True  # Boolean\n",
        "\n",
        "\n",
        "print(num)\n",
        "print(decimal)\n",
        "print(text)\n",
        "print(is_valid)\n",
        "\n",
        "# f-string\n",
        "print(f\"Number: {num}, Decimal: {decimal}, Text: {text}, Valid: {is_valid}\")\n"
      ],
      "metadata": {
        "colab": {
          "base_uri": "https://localhost:8080/"
        },
        "id": "Yp3296qeDHaA",
        "outputId": "3770fc66-a715-4fe0-928d-7a4f03543514"
      },
      "execution_count": null,
      "outputs": [
        {
          "output_type": "stream",
          "name": "stdout",
          "text": [
            "10\n",
            "10.5\n",
            "Hello, LangGraph!\n",
            "True\n",
            "Number: 10, Decimal: 10.5, Text: Hello, LangGraph!, Valid: True\n"
          ]
        }
      ]
    },
    {
      "cell_type": "code",
      "source": [
        "student1 = \"Alice\"\n",
        "student2 = \"Bob\"\n",
        "student3 = \"Charlie\"\n",
        "\n",
        "print(student1)\n",
        "print(student2)\n",
        "student3\n"
      ],
      "metadata": {
        "colab": {
          "base_uri": "https://localhost:8080/",
          "height": 70
        },
        "id": "YJd6Xe1nFCrj",
        "outputId": "c592ae81-e25a-4a23-8d18-7aa4ae8dd586"
      },
      "execution_count": null,
      "outputs": [
        {
          "output_type": "stream",
          "name": "stdout",
          "text": [
            "Alice\n",
            "Bob\n"
          ]
        },
        {
          "output_type": "execute_result",
          "data": {
            "text/plain": [
              "'Charlie'"
            ],
            "application/vnd.google.colaboratory.intrinsic+json": {
              "type": "string"
            }
          },
          "metadata": {},
          "execution_count": 12
        }
      ]
    },
    {
      "cell_type": "markdown",
      "source": [
        "## Lists\n",
        "\n",
        "**What is a List?**\n",
        "\n",
        "A list in Python is a container that holds multiple items in a specific order. It allows you to store, access, and manipulate collections of data efficiently.\n",
        "\n",
        "---\n",
        "\n",
        "**Problem with Multiple Variables**\n",
        "\n",
        "Storing multiple items in separate variables becomes unmanageable as the number of items grows:"
      ],
      "metadata": {
        "id": "YScIGmjtK8kd"
      }
    },
    {
      "cell_type": "code",
      "source": [
        "student1 = \"Ahmad\"\n",
        "student2 = \"Ali\"\n",
        "student3 = \"Kashif\""
      ],
      "metadata": {
        "id": "BXj6zpq7Q6Iy"
      },
      "execution_count": null,
      "outputs": []
    },
    {
      "cell_type": "code",
      "source": [
        "students = [\"Ali\", \"Zain\", \"Umer\", \"Usman\", \"Saad\"]\n",
        "\n",
        "print(students[0])\n",
        "print(students[1])\n",
        "print(students[2])\n",
        "print(students[3])\n",
        "students[4]\n"
      ],
      "metadata": {
        "colab": {
          "base_uri": "https://localhost:8080/",
          "height": 104
        },
        "id": "FNo5zSfIFVrD",
        "outputId": "aacb9cec-0b18-469b-c4ca-fff3d08da632"
      },
      "execution_count": null,
      "outputs": [
        {
          "output_type": "stream",
          "name": "stdout",
          "text": [
            "Ali\n",
            "Zain\n",
            "Umer\n",
            "Usman\n"
          ]
        },
        {
          "output_type": "execute_result",
          "data": {
            "text/plain": [
              "'Saad'"
            ],
            "application/vnd.google.colaboratory.intrinsic+json": {
              "type": "string"
            }
          },
          "metadata": {},
          "execution_count": 13
        }
      ]
    },
    {
      "cell_type": "code",
      "source": [
        "my_list = [1, 2, 3, \"Python\", True]\n",
        "\n",
        "print(my_list)\n",
        "\n",
        "# Extracting first and last element from a list\n",
        "first_element = my_list[0]\n",
        "last_element = my_list[-1]\n",
        "print(\"First Element:\", first_element)\n",
        "print(\"Last Element:\", last_element)\n"
      ],
      "metadata": {
        "colab": {
          "base_uri": "https://localhost:8080/"
        },
        "id": "xcPh7lKcLCKB",
        "outputId": "e3c6d76a-66b5-41b7-a221-4551c5b0abbd"
      },
      "execution_count": null,
      "outputs": [
        {
          "output_type": "stream",
          "name": "stdout",
          "text": [
            "[1, 2, 3, 'Python', True]\n",
            "First Element: 1\n",
            "Last Element: True\n"
          ]
        }
      ]
    },
    {
      "cell_type": "code",
      "source": [
        "# Appending an item to a list\n",
        "my_list.append(\"New Item\")\n",
        "print(\"Updated List:\", my_list)"
      ],
      "metadata": {
        "id": "vxCCQrdKGcD7"
      },
      "execution_count": null,
      "outputs": []
    },
    {
      "cell_type": "code",
      "source": [
        "# List slicing\n",
        "sliced_list = my_list[1:3]\n",
        "print(\"Sliced List:\", sliced_list)"
      ],
      "metadata": {
        "colab": {
          "base_uri": "https://localhost:8080/"
        },
        "id": "uUmYQg2YGgWM",
        "outputId": "13ec05f5-bb0f-4574-c8ba-46520b6e4e75"
      },
      "execution_count": null,
      "outputs": [
        {
          "output_type": "stream",
          "name": "stdout",
          "text": [
            "Sliced List: [2, 3]\n"
          ]
        }
      ]
    },
    {
      "cell_type": "code",
      "source": [
        "names = [\"Ali\", \"Usman\"]\n",
        "age = [23, 21]\n",
        "\n",
        "print(f\"{names[0]} is {age[0]} years old\")"
      ],
      "metadata": {
        "colab": {
          "base_uri": "https://localhost:8080/"
        },
        "id": "pDeZLUPLA3T8",
        "outputId": "79daa039-3ac4-4c44-dad5-0e899f26a9f6"
      },
      "execution_count": null,
      "outputs": [
        {
          "output_type": "stream",
          "name": "stdout",
          "text": [
            "Ali is 23 years old\n"
          ]
        }
      ]
    },
    {
      "cell_type": "markdown",
      "source": [
        "## Dictionaries\n",
        "\n",
        "Dictionaries store key-value pairs, and sets store unique elements."
      ],
      "metadata": {
        "id": "iZ0lWYNnLHMh"
      }
    },
    {
      "cell_type": "code",
      "source": [
        "my_dict = {\"Ali\": 23, \"Usman\": 21}\n",
        "\n",
        "tuple = (\"Ali\")\n",
        "\n",
        "# tuple.append(\"Usman\")\n",
        "\n",
        "print([i for i in dir(tuple) if \"__\" not in i])\n",
        "\n",
        "\n",
        "for i in  my_dict.keys():\n",
        "  print(i)\n",
        "\n",
        "for i in  my_dict.values():\n",
        "  print(i)\n",
        "\n",
        "for i in  my_dict.items():\n",
        "  print(i)\n",
        "\n",
        "print(my_dict)"
      ],
      "metadata": {
        "colab": {
          "base_uri": "https://localhost:8080/"
        },
        "id": "jwuypWSKBybe",
        "outputId": "757262e9-d6cd-411a-8192-b941facf9cb2"
      },
      "execution_count": null,
      "outputs": [
        {
          "output_type": "stream",
          "name": "stdout",
          "text": [
            "['capitalize', 'casefold', 'center', 'count', 'encode', 'endswith', 'expandtabs', 'find', 'format', 'format_map', 'index', 'isalnum', 'isalpha', 'isascii', 'isdecimal', 'isdigit', 'isidentifier', 'islower', 'isnumeric', 'isprintable', 'isspace', 'istitle', 'isupper', 'join', 'ljust', 'lower', 'lstrip', 'maketrans', 'partition', 'removeprefix', 'removesuffix', 'replace', 'rfind', 'rindex', 'rjust', 'rpartition', 'rsplit', 'rstrip', 'split', 'splitlines', 'startswith', 'strip', 'swapcase', 'title', 'translate', 'upper', 'zfill']\n",
            "Ali\n",
            "Usman\n",
            "23\n",
            "21\n",
            "('Ali', 23)\n",
            "('Usman', 21)\n",
            "{'Ali': 23, 'Usman': 21}\n"
          ]
        }
      ]
    },
    {
      "cell_type": "code",
      "source": [
        "\n",
        "\n",
        "# Access dictionary values safely\n",
        "print(my_dict.get(\"name\", \"Default\"))\n",
        "print(my_dict.get(\"age\", \"Not provided\"))\n",
        "\n",
        "# Using .items() on a dictionary\n",
        "for key, value in my_dict.items():\n",
        "    print(f\"Key: {key}, Value: {value}\")\n",
        "\n",
        "## Complex Dictionary Structures\n",
        "\"\"\"\n",
        "Handling nested dictionary structures similar to LangGraph AI message format.\n",
        "\"\"\"\n",
        "ai_message = {\n",
        "    \"role\": \"assistant\",\n",
        "    \"content\": [\n",
        "        {\"type\": \"text\", \"text\": \"Hello, how can I assist you today?\"},\n",
        "        {\"type\": \"code\", \"language\": \"python\", \"code\": \"print('Hello, World!')\"}\n",
        "    ],\n",
        "    \"metadata\": {\n",
        "        \"timestamp\": \"2025-02-15T12:34:56\",\n",
        "        \"session_id\": \"abc123\"\n",
        "    }\n",
        "}\n",
        "\n",
        "# Extract specific content from the AI message\n",
        "text_message = ai_message[\"content\"][0][\"text\"]\n",
        "code_snippet = ai_message[\"content\"][1][\"code\"]\n",
        "session_id = ai_message[\"metadata\"][\"session_id\"]\n",
        "\n",
        "print(\"Extracted Text:\", text_message)\n",
        "print(\"Extracted Code:\", code_snippet)\n",
        "print(\"Session ID:\", session_id)\n",
        "\n",
        "# Advanced AIMessage Dictionary\n",
        "ai_message_advanced = {\n",
        "    \"content\": \"Hello We are learning pyhton\",\n",
        "    \"additional_kwargs\": {\n",
        "        \"function_call\": {\n",
        "            \"name\": \"get_weather\",\n",
        "            \"arguments\": \"{\\\"city\\\": \\\"Peshawar\\\"}\"\n",
        "        }\n",
        "    },\n",
        "    \"response_metadata\": {\n",
        "        \"prompt_feedback\": {\"block_reason\": 0, \"safety_ratings\": []},\n",
        "        \"finish_reason\": \"STOP\",\n",
        "        \"safety_ratings\": []\n",
        "    },\n",
        "    \"id\": \"run-70424d00-1665-444e-858c-6c2984d3ce31-0\",\n",
        "    \"tool_calls\": [\n",
        "        {\n",
        "            \"name\": \"get_weather\",\n",
        "            \"args\": {\"city\": \"Peshawar\"},\n",
        "            \"id\": \"6f207715-db57-438c-89de-54a49d59980f\",\n",
        "            \"type\": \"tool_call\"\n",
        "        }\n",
        "    ],\n",
        "    \"usage_metadata\": {\n",
        "        \"input_tokens\": 50,\n",
        "        \"output_tokens\": 6,\n",
        "        \"total_tokens\": 56,\n",
        "        \"input_token_details\": {\"cache_read\": 0}\n",
        "    }\n",
        "}\n",
        "\n",
        "\n",
        "ai_message_advanced[\"content\"]\n",
        "\n",
        "# Extracting specific values\n",
        "# function_name = ai_message_advanced[\"additional_kwargs\"][\"function_call\"][\"name\"]\n",
        "# function_arguments = ai_message_advanced[\"additional_kwargs\"][\"function_call\"][\"arguments\"]\n",
        "# tool_call_name = ai_message_advanced[\"tool_calls\"][0][\"name\"]\n",
        "# tool_call_args = ai_message_advanced[\"tool_calls\"][0][\"args\"]\n",
        "\n",
        "# print(\"Function Name:\", function_name)\n",
        "# print(\"Function Arguments:\", function_arguments)\n",
        "# print(\"Tool Call Name:\", tool_call_name)\n",
        "# print(\"Tool Call Arguments:\", tool_call_args)\n"
      ],
      "metadata": {
        "colab": {
          "base_uri": "https://localhost:8080/",
          "height": 157
        },
        "id": "CSUCN2HfLUdK",
        "outputId": "04477456-a7e9-4751-8cf7-ffec1252c6a6"
      },
      "execution_count": null,
      "outputs": [
        {
          "output_type": "stream",
          "name": "stdout",
          "text": [
            "Default\n",
            "Not provided\n",
            "Key: Ali, Value: 23\n",
            "Key: Usman, Value: 21\n",
            "Extracted Text: Hello, how can I assist you today?\n",
            "Extracted Code: print('Hello, World!')\n",
            "Session ID: abc123\n"
          ]
        },
        {
          "output_type": "execute_result",
          "data": {
            "text/plain": [
              "'Hello We are learning pyhton'"
            ],
            "application/vnd.google.colaboratory.intrinsic+json": {
              "type": "string"
            }
          },
          "metadata": {},
          "execution_count": 26
        }
      ]
    },
    {
      "cell_type": "markdown",
      "source": [
        "## Operators\n",
        "\n",
        "Arithmetic operators: +, -, *, /, // (floor division), % (modulo), (exponentiation)"
      ],
      "metadata": {
        "id": "bG_TMSQ9MRtA"
      }
    },
    {
      "cell_type": "code",
      "source": [
        "x = 10\n",
        "y = 3\n",
        "print(x + y)  # 13\n",
        "print(x - y)  # 7\n",
        "print(x * y)  # 30\n",
        "print(x / y)  # 3.333...\n",
        "print(x // y) # 3\n",
        "print(x % y)  # 1\n",
        "print(x ** y) # 1000\n",
        "\n",
        "# Comparison operators: ==, !=, >, <, >=, <=\n",
        "\n",
        "print(x == y)  # False\n",
        "print(x > y)   # True\n",
        "\n",
        "# Logical operators: and, or, not\n",
        "\n",
        "print(x > 5 and y < 5)  # True\n",
        "print(x > 15 or y < 5)  # True\n",
        "print(not (x > 15))     # True\n",
        "\n",
        "\n"
      ],
      "metadata": {
        "colab": {
          "base_uri": "https://localhost:8080/"
        },
        "id": "Us7_ju2uMR8b",
        "outputId": "50ab4a83-9df8-4245-d89a-c66100ec31a5"
      },
      "execution_count": null,
      "outputs": [
        {
          "output_type": "stream",
          "name": "stdout",
          "text": [
            "13\n",
            "7\n",
            "30\n",
            "3.3333333333333335\n",
            "3\n",
            "1\n",
            "1000\n",
            "False\n",
            "True\n",
            "True\n",
            "True\n",
            "True\n"
          ]
        }
      ]
    },
    {
      "cell_type": "markdown",
      "source": [
        "\n",
        "## Conditional Statements\n",
        "\n",
        "if-elif-else statements help in decision making.\n"
      ],
      "metadata": {
        "id": "03esxxMSLWly"
      }
    },
    {
      "cell_type": "code",
      "source": [
        "\n",
        "num = 10\n",
        "if num > 10:\n",
        "    print(\"Greater than 10\")\n",
        "elif num == 10:\n",
        "    print(\"Exactly 10\")\n",
        "else:\n",
        "    print(\"Less than 10\")\n"
      ],
      "metadata": {
        "colab": {
          "base_uri": "https://localhost:8080/"
        },
        "id": "l5lDFmmmLY_-",
        "outputId": "4e1185ac-bfe4-4558-9e4e-21f3ea7f3525"
      },
      "execution_count": null,
      "outputs": [
        {
          "output_type": "stream",
          "name": "stdout",
          "text": [
            "Exactly 10\n"
          ]
        }
      ]
    },
    {
      "cell_type": "markdown",
      "source": [
        "## Loops (for, while)\n",
        "\n",
        "Loops allow repeated execution of a block of code.\n"
      ],
      "metadata": {
        "id": "_xhtY9YkLcfl"
      }
    },
    {
      "cell_type": "code",
      "source": [
        "for i in range(5):\n",
        "    print(\"Iteration\", i)\n",
        "\n",
        "count = 0\n",
        "while count < 3:\n",
        "    print(\"Count:\", count)\n",
        "    count += 1\n"
      ],
      "metadata": {
        "colab": {
          "base_uri": "https://localhost:8080/"
        },
        "id": "-WriLT7HLeh0",
        "outputId": "e8a399f1-c7cf-4f14-cf1b-f75e8701b07e"
      },
      "execution_count": null,
      "outputs": [
        {
          "output_type": "stream",
          "name": "stdout",
          "text": [
            "Iteration 0\n",
            "Iteration 1\n",
            "Iteration 2\n",
            "Iteration 3\n",
            "Iteration 4\n",
            "Count: 0\n",
            "Count: 1\n",
            "Count: 2\n"
          ]
        }
      ]
    },
    {
      "cell_type": "markdown",
      "source": [
        "## Functions\n",
        "\n",
        "Functions encapsulate reusable code blocks.\n"
      ],
      "metadata": {
        "id": "3XDTdbWRLlkd"
      }
    },
    {
      "cell_type": "code",
      "source": [
        "def greet(a,b):\n",
        "  return a+b\n",
        "\n",
        "\n",
        "result = greet(2,666)\n",
        "\n",
        "result\n",
        "\n",
        "\n"
      ],
      "metadata": {
        "colab": {
          "base_uri": "https://localhost:8080/"
        },
        "id": "bi2gWYJ-LnXd",
        "outputId": "becff806-ca74-4380-949e-761d6e62b39d"
      },
      "execution_count": null,
      "outputs": [
        {
          "output_type": "execute_result",
          "data": {
            "text/plain": [
              "668"
            ]
          },
          "metadata": {},
          "execution_count": 24
        }
      ]
    },
    {
      "cell_type": "markdown",
      "source": [
        "## Classes and Objects\n",
        "\n",
        "Python supports object-oriented programming with classes and objects.\n"
      ],
      "metadata": {
        "id": "T1TpBbGrLscD"
      }
    },
    {
      "cell_type": "code",
      "source": [
        "class Car:\n",
        "    def __init__(self,brand):\n",
        "       self.brand = brand\n",
        "\n",
        "obj1 = Car(\"Toyota\")\n",
        "\n",
        "print(obj1.brand)\n",
        "\n"
      ],
      "metadata": {
        "colab": {
          "base_uri": "https://localhost:8080/"
        },
        "id": "NKxEHsILLwGS",
        "outputId": "8889f694-5a39-4dc6-88d4-8281565039bf"
      },
      "execution_count": null,
      "outputs": [
        {
          "output_type": "stream",
          "name": "stdout",
          "text": [
            "Toyota\n"
          ]
        }
      ]
    },
    {
      "cell_type": "code",
      "source": [],
      "metadata": {
        "id": "au-_UcH_I8VF"
      },
      "execution_count": null,
      "outputs": []
    }
  ]
}